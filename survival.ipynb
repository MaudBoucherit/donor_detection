{
 "cells": [
  {
   "cell_type": "markdown",
   "metadata": {},
   "source": [
    "# Survival Analysis of Churn"
   ]
  },
  {
   "cell_type": "code",
   "execution_count": 1,
   "metadata": {},
   "outputs": [
    {
     "name": "stderr",
     "output_type": "stream",
     "text": [
      "Warning message:\n",
      "\"package 'tidyverse' was built under R version 3.4.4\"-- Attaching packages --------------------------------------- tidyverse 1.2.1 --\n",
      "v ggplot2 2.2.1     v purrr   0.2.4\n",
      "v tibble  1.4.2     v dplyr   0.7.4\n",
      "v tidyr   0.8.0     v stringr 1.3.0\n",
      "v readr   1.1.1     v forcats 0.3.0\n",
      "Warning message:\n",
      "\"package 'ggplot2' was built under R version 3.4.4\"Warning message:\n",
      "\"package 'tibble' was built under R version 3.4.4\"Warning message:\n",
      "\"package 'tidyr' was built under R version 3.4.4\"Warning message:\n",
      "\"package 'readr' was built under R version 3.4.4\"Warning message:\n",
      "\"package 'purrr' was built under R version 3.4.4\"Warning message:\n",
      "\"package 'stringr' was built under R version 3.4.4\"Warning message:\n",
      "\"package 'forcats' was built under R version 3.4.4\"-- Conflicts ------------------------------------------ tidyverse_conflicts() --\n",
      "x dplyr::filter() masks stats::filter()\n",
      "x dplyr::lag()    masks stats::lag()\n",
      "Warning message:\n",
      "\"package 'survival' was built under R version 3.4.4\"Warning message:\n",
      "\"package 'rpart' was built under R version 3.4.4\"\n",
      "Attaching package: 'rpart'\n",
      "\n",
      "The following object is masked from 'package:survival':\n",
      "\n",
      "    solder\n",
      "\n"
     ]
    }
   ],
   "source": [
    "options(repr.plot.width = 5, repr.plot.height = 4, warn = FALSE)\n",
    "library(tidyverse)\n",
    "library(survival)\n",
    "library(rpart)\n",
    "# library(grid)"
   ]
  },
  {
   "cell_type": "code",
   "execution_count": 2,
   "metadata": {
    "scrolled": true
   },
   "outputs": [
    {
     "name": "stderr",
     "output_type": "stream",
     "text": [
      "Parsed with column specification:\n",
      "cols(\n",
      "  .default = col_double(),\n",
      "  tenant_id = col_integer(),\n",
      "  status = col_integer(),\n",
      "  time = col_integer(),\n",
      "  life = col_integer(),\n",
      "  end_date = col_datetime(format = \"\"),\n",
      "  lead_type = col_character(),\n",
      "  custom_email = col_integer(),\n",
      "  funnel = col_character(),\n",
      "  white_label = col_character(),\n",
      "  question_bank = col_character(),\n",
      "  zapier = col_character(),\n",
      "  infusionsoft = col_character(),\n",
      "  disqus = col_character(),\n",
      "  analytics = col_character(),\n",
      "  mail_int = col_character()\n",
      ")\n",
      "See spec(...) for full column specifications.\n",
      "Warning message:\n",
      "\"package 'bindrcpp' was built under R version 3.4.4\""
     ]
    },
    {
     "data": {
      "text/html": [
       "<table>\n",
       "<thead><tr><th scope=col>tenant_id</th><th scope=col>status</th><th scope=col>time</th><th scope=col>life</th><th scope=col>end_date</th><th scope=col>lead_type</th><th scope=col>custom_email</th><th scope=col>funnel</th><th scope=col>nb_enrol</th><th scope=col>enrol_3m</th><th scope=col>...</th><th scope=col>zapier</th><th scope=col>infusionsoft</th><th scope=col>disqus</th><th scope=col>analytics</th><th scope=col>mail_int</th><th scope=col>free_trial</th><th scope=col>tickets</th><th scope=col>ticket_3m</th><th scope=col>active</th><th scope=col>active_3m</th></tr></thead>\n",
       "<tbody>\n",
       "\t<tr><td>  700              </td><td>0                  </td><td>1235               </td><td>1406               </td><td>2018-10-01 00:00:00</td><td>Starter            </td><td>1                  </td><td>missing            </td><td>1999               </td><td>0.02197802         </td><td>...                </td><td>FALSE              </td><td>False              </td><td>False              </td><td>True               </td><td>False              </td><td>0                  </td><td>37                 </td><td>0.00000000         </td><td>0.09601707         </td><td>0.01098901         </td></tr>\n",
       "\t<tr><td> 1568              </td><td>0                  </td><td>1274               </td><td>1275               </td><td>2018-10-01 00:00:00</td><td>Starter            </td><td>1                  </td><td>missing            </td><td>  25               </td><td>0.01098901         </td><td>...                </td><td>FALSE              </td><td>False              </td><td>False              </td><td>False              </td><td>False              </td><td>0                  </td><td> 0                 </td><td>0.00000000         </td><td>0.04705882         </td><td>0.09890110         </td></tr>\n",
       "\t<tr><td>76861              </td><td>0                  </td><td> 398               </td><td> 425               </td><td>2018-10-01 00:00:00</td><td>Starter            </td><td>1                  </td><td>3A-3B              </td><td> 119               </td><td>0.01098901         </td><td>...                </td><td>FALSE              </td><td>False              </td><td>True               </td><td>True               </td><td>False              </td><td>1                  </td><td>13                 </td><td>0.00000000         </td><td>0.12470588         </td><td>0.02197802         </td></tr>\n",
       "\t<tr><td>  191              </td><td>0                  </td><td>1305               </td><td>1539               </td><td>2018-10-01 00:00:00</td><td>Starter            </td><td>1                  </td><td>missing            </td><td>5131               </td><td>2.37362637         </td><td>...                </td><td> TRUE              </td><td>False              </td><td>False              </td><td>True               </td><td>False              </td><td>0                  </td><td>29                 </td><td>0.02197802         </td><td>0.14165042         </td><td>0.18681319         </td></tr>\n",
       "\t<tr><td> 1182              </td><td>0                  </td><td>1311               </td><td>1321               </td><td>2018-10-01 00:00:00</td><td>Starter            </td><td>0                  </td><td>missing            </td><td>   2               </td><td>0.00000000         </td><td>...                </td><td>FALSE              </td><td>False              </td><td>False              </td><td>False              </td><td>False              </td><td>0                  </td><td> 0                 </td><td>0.00000000         </td><td>0.00000000         </td><td>0.00000000         </td></tr>\n",
       "\t<tr><td> 1213              </td><td>1                  </td><td> 670               </td><td> 752               </td><td>2017-03-14 13:42:47</td><td>Starter            </td><td>1                  </td><td>missing            </td><td> 158               </td><td>0.02197802         </td><td>...                </td><td>FALSE              </td><td>False              </td><td>True               </td><td>False              </td><td>False              </td><td>0                  </td><td> 0                 </td><td>0.00000000         </td><td>0.00000000         </td><td>0.00000000         </td></tr>\n",
       "</tbody>\n",
       "</table>\n"
      ],
      "text/latex": [
       "\\begin{tabular}{r|lllllllllllllllllllllllllllllllllllllllll}\n",
       " tenant\\_id & status & time & life & end\\_date & lead\\_type & custom\\_email & funnel & nb\\_enrol & enrol\\_3m & ... & zapier & infusionsoft & disqus & analytics & mail\\_int & free\\_trial & tickets & ticket\\_3m & active & active\\_3m\\\\\n",
       "\\hline\n",
       "\t   700               & 0                   & 1235                & 1406                & 2018-10-01 00:00:00 & Starter             & 1                   & missing             & 1999                & 0.02197802          & ...                 & FALSE               & False               & False               & True                & False               & 0                   & 37                  & 0.00000000          & 0.09601707          & 0.01098901         \\\\\n",
       "\t  1568               & 0                   & 1274                & 1275                & 2018-10-01 00:00:00 & Starter             & 1                   & missing             &   25                & 0.01098901          & ...                 & FALSE               & False               & False               & False               & False               & 0                   &  0                  & 0.00000000          & 0.04705882          & 0.09890110         \\\\\n",
       "\t 76861               & 0                   &  398                &  425                & 2018-10-01 00:00:00 & Starter             & 1                   & 3A-3B               &  119                & 0.01098901          & ...                 & FALSE               & False               & True                & True                & False               & 1                   & 13                  & 0.00000000          & 0.12470588          & 0.02197802         \\\\\n",
       "\t   191               & 0                   & 1305                & 1539                & 2018-10-01 00:00:00 & Starter             & 1                   & missing             & 5131                & 2.37362637          & ...                 &  TRUE               & False               & False               & True                & False               & 0                   & 29                  & 0.02197802          & 0.14165042          & 0.18681319         \\\\\n",
       "\t  1182               & 0                   & 1311                & 1321                & 2018-10-01 00:00:00 & Starter             & 0                   & missing             &    2                & 0.00000000          & ...                 & FALSE               & False               & False               & False               & False               & 0                   &  0                  & 0.00000000          & 0.00000000          & 0.00000000         \\\\\n",
       "\t  1213               & 1                   &  670                &  752                & 2017-03-14 13:42:47 & Starter             & 1                   & missing             &  158                & 0.02197802          & ...                 & FALSE               & False               & True                & False               & False               & 0                   &  0                  & 0.00000000          & 0.00000000          & 0.00000000         \\\\\n",
       "\\end{tabular}\n"
      ],
      "text/markdown": [
       "\n",
       "tenant_id | status | time | life | end_date | lead_type | custom_email | funnel | nb_enrol | enrol_3m | ... | zapier | infusionsoft | disqus | analytics | mail_int | free_trial | tickets | ticket_3m | active | active_3m | \n",
       "|---|---|---|---|---|---|\n",
       "|   700               | 0                   | 1235                | 1406                | 2018-10-01 00:00:00 | Starter             | 1                   | missing             | 1999                | 0.02197802          | ...                 | FALSE               | False               | False               | True                | False               | 0                   | 37                  | 0.00000000          | 0.09601707          | 0.01098901          | \n",
       "|  1568               | 0                   | 1274                | 1275                | 2018-10-01 00:00:00 | Starter             | 1                   | missing             |   25                | 0.01098901          | ...                 | FALSE               | False               | False               | False               | False               | 0                   |  0                  | 0.00000000          | 0.04705882          | 0.09890110          | \n",
       "| 76861               | 0                   |  398                |  425                | 2018-10-01 00:00:00 | Starter             | 1                   | 3A-3B               |  119                | 0.01098901          | ...                 | FALSE               | False               | True                | True                | False               | 1                   | 13                  | 0.00000000          | 0.12470588          | 0.02197802          | \n",
       "|   191               | 0                   | 1305                | 1539                | 2018-10-01 00:00:00 | Starter             | 1                   | missing             | 5131                | 2.37362637          | ...                 |  TRUE               | False               | False               | True                | False               | 0                   | 29                  | 0.02197802          | 0.14165042          | 0.18681319          | \n",
       "|  1182               | 0                   | 1311                | 1321                | 2018-10-01 00:00:00 | Starter             | 0                   | missing             |    2                | 0.00000000          | ...                 | FALSE               | False               | False               | False               | False               | 0                   |  0                  | 0.00000000          | 0.00000000          | 0.00000000          | \n",
       "|  1213               | 1                   |  670                |  752                | 2017-03-14 13:42:47 | Starter             | 1                   | missing             |  158                | 0.02197802          | ...                 | FALSE               | False               | True                | False               | False               | 0                   |  0                  | 0.00000000          | 0.00000000          | 0.00000000          | \n",
       "\n",
       "\n"
      ],
      "text/plain": [
       "  tenant_id status time life end_date            lead_type custom_email funnel \n",
       "1   700     0      1235 1406 2018-10-01 00:00:00 Starter   1            missing\n",
       "2  1568     0      1274 1275 2018-10-01 00:00:00 Starter   1            missing\n",
       "3 76861     0       398  425 2018-10-01 00:00:00 Starter   1            3A-3B  \n",
       "4   191     0      1305 1539 2018-10-01 00:00:00 Starter   1            missing\n",
       "5  1182     0      1311 1321 2018-10-01 00:00:00 Starter   0            missing\n",
       "6  1213     1       670  752 2017-03-14 13:42:47 Starter   1            missing\n",
       "  nb_enrol enrol_3m   ... zapier infusionsoft disqus analytics mail_int\n",
       "1 1999     0.02197802 ... FALSE  False        False  True      False   \n",
       "2   25     0.01098901 ... FALSE  False        False  False     False   \n",
       "3  119     0.01098901 ... FALSE  False        True   True      False   \n",
       "4 5131     2.37362637 ...  TRUE  False        False  True      False   \n",
       "5    2     0.00000000 ... FALSE  False        False  False     False   \n",
       "6  158     0.02197802 ... FALSE  False        True   False     False   \n",
       "  free_trial tickets ticket_3m  active     active_3m \n",
       "1 0          37      0.00000000 0.09601707 0.01098901\n",
       "2 0           0      0.00000000 0.04705882 0.09890110\n",
       "3 1          13      0.00000000 0.12470588 0.02197802\n",
       "4 0          29      0.02197802 0.14165042 0.18681319\n",
       "5 0           0      0.00000000 0.00000000 0.00000000\n",
       "6 0           0      0.00000000 0.00000000 0.00000000"
      ]
     },
     "metadata": {},
     "output_type": "display_data"
    }
   ],
   "source": [
    "data <- read_csv('data/data.csv') %>% \n",
    "    mutate(white_label = white_label == 'True',\n",
    "           zapier = zapier == 'True'\n",
    "          )  %>% \n",
    "    filter(time >= 0) \n",
    "data %>% head()"
   ]
  },
  {
   "cell_type": "markdown",
   "metadata": {},
   "source": [
    "## EDA"
   ]
  },
  {
   "cell_type": "code",
   "execution_count": 3,
   "metadata": {
    "scrolled": true
   },
   "outputs": [
    {
     "data": {},
     "metadata": {},
     "output_type": "display_data"
    },
    {
     "data": {
      "image/png": "[encoded data removed]",
      "text/plain": [
       "plot without title"
      ]
     },
     "metadata": {},
     "output_type": "display_data"
    }
   ],
   "source": [
    "# CDF\n",
    "data <- data %>% \n",
    "    arrange(time) %>% \n",
    "    group_by(status) %>% \n",
    "    mutate(rank = row_number()/n())\n",
    "\n",
    "colours <- c('blue3', 'red3')\n",
    "names(colours) <- c('censored', 'churned')\n",
    "ggplot(data = NULL) +\n",
    "    geom_line(aes(data$time[data$status == 1], data$rank[data$status == 1], colour = 'churned')) +\n",
    "    geom_line(aes(data$time[data$status == 0], data$rank[data$status == 0], colour = 'censored')) +\n",
    "    \n",
    "#     geom_hline(aes(yintercept = max(data$rank[data$time <= 7])), colour = 'red') +\n",
    "#     annotate('text', x = 1370, y = max(data$rank[data$time <= 7]) + .025, colour = 'red', size = 3, hjust = 1,\n",
    "#              label = paste('one week: ', as.character(round(max(data$rank[data$time <= 7])*100)), '%', sep = '')) +\n",
    "    \n",
    "#     geom_hline(aes(yintercept = max(data$rank[data$time <= 30])), colour = 'orangered') +\n",
    "#     annotate('text', x = 1370, y = max(data$rank[data$time <= 30]) + .025, colour = 'orangered', size = 3, hjust = 1,\n",
    "#              label = paste('one month: ', as.character(round(max(data$rank[data$time <= 30])*100)), '%', sep = '')) +\n",
    "    \n",
    "#     geom_hline(aes(yintercept = max(data$rank[data$time <= 91])), colour = 'darkorange') +\n",
    "#     annotate('text', x = 1370, y = max(data$rank[data$time <= 91]) + .025, colour = 'darkorange', size = 3, hjust = 1,\n",
    "#              label = paste('three months: ', as.character(round(max(data$rank[data$time <= 91])*100)), '%', sep = '')) +\n",
    "    \n",
    "#     geom_hline(aes(yintercept = max(data$rank[data$time <= 365])), colour = 'orange') +\n",
    "#     annotate('text', x = 1370, y = max(data$rank[data$time <= 365]) + .025, colour = 'orange', size = 3, hjust = 1,\n",
    "#              label = paste('one year: ', as.character(round(max(data$rank[data$time <= 365])*100)), '%', sep = '')) +\n",
    "\n",
    "    scale_y_continuous(\"Proportion of Tenants\", labels = scales::percent, breaks = c(0, .2, .4, .6, .8, 1)) + \n",
    "    scale_colour_manual(\"\", values = colours, breaks = c('churned', 'censored')) +\n",
    "    scale_x_continuous(\"Time since Creation (in years)\", breaks = c(0, 365.25, 730.5, 1095.75), \n",
    "                       labels = c('0', '1', '2', '3'), limits = c(0, 1370)) + \n",
    "    theme_light()+ theme(legend.position = c(.88,.7), legend.background = element_rect(fill=\"transparent\",colour=NA))\n",
    "\n",
    "ggsave('img/time_dist.png', height = 4, width = 6)"
   ]
  },
  {
   "cell_type": "code",
   "execution_count": 4,
   "metadata": {},
   "outputs": [
    {
     "name": "stdout",
     "output_type": "stream",
     "text": [
      "[1] \"Number of tenants: 12392\"\n",
      "[1] \"Number of subscriptions: 6718\"\n",
      "[1] \"Proportion of tenants subscribing: 54.2123950936088\"\n",
      "[1] \"In the first day:        185    2.75379577255135\"\n",
      "[1] \"In the first week:       340    5.06103006847276\"\n",
      "[1] \"In the first two weeks:  544    8.09764810955642\"\n",
      "[1] \"In the first month:      1580    23.518904435844\"\n",
      "[1] \"In the first quarter:    3279   48.8091693956535\"\n",
      "[1] \"In the first 6 months:   4691   69.8273295623698\"\n",
      "[1] \"In the first year:       5840   86.9306341172968\"\n",
      "[1] \"After two years:         94      1.39922596010717\"\n"
     ]
    }
   ],
   "source": [
    "n <- length(data$status)\n",
    "sub <- data %>% filter(status == 1)\n",
    "m <- length(sub$status)\n",
    "\n",
    "print(paste('Number of tenants:', n))\n",
    "print(paste('Number of subscriptions:', m))\n",
    "print(paste('Proportion of tenants subscribing:', m/n*100))\n",
    "print(paste(\"In the first day:       \", as.character(sum(sub$time <= 1)), \"  \", as.character(sum(sub$time <= 1)/m*100)))\n",
    "print(paste(\"In the first week:      \", as.character(sum(sub$time <= 7)), \"  \", as.character(sum(sub$time <= 7)/m*100)))\n",
    "print(paste(\"In the first two weeks: \", as.character(sum(sub$time <= 14)), \"  \", as.character(sum(sub$time <= 14)/m*100)))\n",
    "print(paste(\"In the first month:     \", as.character(sum(sub$time <= 30.5)), \"  \", as.character(sum(sub$time <= 30.5)/m*100)))\n",
    "print(paste(\"In the first quarter:   \", as.character(sum(sub$time <= 91.5)), \" \", as.character(sum(sub$time <= 91.5)/m*100)))\n",
    "print(paste(\"In the first 6 months:  \", as.character(sum(sub$time <= 183)), \" \", as.character(sum(sub$time <= 183)/m*100)))\n",
    "print(paste(\"In the first year:      \", as.character(sum(sub$time <= 365)), \" \", as.character(sum(sub$time <= 365)/m*100)))\n",
    "print(paste(\"After two years:        \", as.character(sum(sub$time > 730)), \"    \", as.character(sum(sub$time > 730)/m*100)))"
   ]
  },
  {
   "cell_type": "code",
   "execution_count": 5,
   "metadata": {},
   "outputs": [
    {
     "name": "stdout",
     "output_type": "stream",
     "text": [
      "[1] \"After 3 months:       8509      72.1835765184934\"\n",
      "[1] \"After a year:         3488      37.3927958833619\"\n"
     ]
    }
   ],
   "source": [
    "print(paste(\"After 3 months:      \", as.character(sum(data$time > 91.5)), \"    \", as.character(sum(data$time > 91.5)/(sum(data$time > 91.5)+sum(sub$time <= 91.5))*100)))\n",
    "print(paste(\"After a year:        \", as.character(sum(data$time > 365)), \"    \", as.character(sum(data$time > 365)/(sum(data$time > 365)+sum(sub$time <= 365))*100)))"
   ]
  },
  {
   "cell_type": "code",
   "execution_count": 6,
   "metadata": {
    "scrolled": true
   },
   "outputs": [
    {
     "data": {},
     "metadata": {},
     "output_type": "display_data"
    },
    {
     "data": {
      "image/png": "[encoded data removed]",
      "text/plain": [
       "plot without title"
      ]
     },
     "metadata": {},
     "output_type": "display_data"
    }
   ],
   "source": [
    "props <- data_frame('plan' = c('Advanced', 'Business', 'Essentials', 'Advanced', 'Business', 'Essentials', 'Advanced', 'Business', 'Essentials', 'Advanced', 'Business', 'Essentials'),\n",
    "                    'level' = c('Monthly - churned', 'Monthly - churned', 'Monthly - churned', 'Monthly - censored', 'Monthly - censored', 'Monthly - censored', 'Annual - churned', 'Annual - churned', 'Annual - churned', 'Annual - censored', 'Annual - censored', 'Annual - censored'),\n",
    "                    'churn' = c('Yes', 'Yes', 'Yes', 'No', 'No', 'No', 'Yes', 'Yes', 'Yes', 'No', 'No', 'No'),\n",
    "                    'tenants' = c(.252, .441, .378, .378, .259, .222, .074, .069, .14, .296, .231, .26)\n",
    "                    )  \n",
    "\n",
    "props$plan <- factor(props$plan, levels = c('Essentials', 'Business', 'Advanced'))\n",
    "props$level <- factor(props$level, levels = c('Monthly - censored', 'Annual - censored', 'Monthly - churned', 'Annual - churned'))\n",
    "\n",
    "colours <- c('red4', 'red1', 'blue4', 'blue1')\n",
    "names(colours) <- c('Annual - churned', 'Monthly - churned', 'Annual - censored', 'Monthly - censored')\n",
    "ggplot(props, aes(plan, weight = tenants, fill = level)) +\n",
    "    geom_bar(position = 'fill') + coord_flip() +\n",
    "    scale_y_continuous(\"Proportion of Tenants\", labels = scales::percent) + \n",
    "    scale_fill_manual(\"\", values = colours) + xlab('') +\n",
    "    theme_light() \n",
    "\n",
    "ggsave('img/plan_dist.png', height = 3, width = 5)"
   ]
  },
  {
   "cell_type": "code",
   "execution_count": 7,
   "metadata": {},
   "outputs": [
    {
     "name": "stdout",
     "output_type": "stream",
     "text": [
      "[1] \"none:            3518 0.283892834086507 0.806424104604889 0.422298303066389\"\n",
      "[1] \"coupons:         5543 0.447304712717883 0.398881472127007 0.329115808276273\"\n",
      "[1] \"groups:          1583 0.127743705616527 0.146557169930512 0.0345340875260494\"\n",
      "[1] \"drip schedule:   3365 0.271546158812137 0.42109955423477 0.210925870794879\"\n",
      "[1] \"bundles:         3746 0.30229180116204 0.392685531233316 0.218963977374219\"\n",
      "[1] \"private/hidden:  3835 0.309473854099419 0.311864406779661 0.178029175349807\"\n",
      "[1] \"white label:     4773 0.385167850225952 0.363084014246805 0.257963679666567\"\n",
      "[1] \"certificates:    1698 0.137023886378309 0.210836277974087 0.0532896695445073\"\n",
      "[1] \"zapier:          995 0.0802937378954164 0.264321608040201 0.0391485561178922\"\n",
      "[1] \"free trial:      3640 0.293737895416398 0.743681318681319 0.402947305745758\"\n"
     ]
    }
   ],
   "source": [
    "print(paste('none:           ', sum((data$coupons==0) & (data$groups==0) & !(data$drip_schedule>0) & !(data$bundles>0) & !(data$private_hidden>0) & !data$white_label & !(data$certificates>0) & !data$zapier), sum((data$coupons==0) & (data$groups==0) & !(data$drip_schedule>0) & !(data$bundles>0) & !(data$private_hidden>0) & !data$white_label & !(data$certificates>0) & !data$zapier)/n, sum((sub$coupons==0) & (sub$groups==0) & !(sub$drip_schedule>0) & !(sub$bundles>0) & !(sub$private_hidden>0) & !sub$white_label & !(sub$certificates>0) & !sub$zapier)/sum((data$coupons==0) & (data$groups==0) & !(data$drip_schedule>0) & !(data$bundles>0) & !(data$private_hidden>0) & !data$white_label & !(data$certificates>0) & !data$zapier), sum((sub$coupons==0) & (sub$groups==0) & !(sub$drip_schedule>0) & !(sub$bundles>0) & !(sub$private_hidden>0) & !sub$white_label & !(sub$certificates>0) & !sub$zapier)/m))\n",
    "print(paste('coupons:        ', sum(data$coupons>0),        sum(data$coupons>0)       /n, sum(sub$coupons>0)       /sum(data$coupons>0),        sum(sub$coupons>0)       /m))\n",
    "print(paste('groups:         ', sum(data$groups>0),         sum(data$groups>0)        /n, sum(sub$groups>0)        /sum(data$groups>0),         sum(sub$groups>0)        /m))\n",
    "print(paste('drip schedule:  ', sum(data$drip_schedule>0),  sum(data$drip_schedule>0) /n, sum(sub$drip_schedule>0) /sum(data$drip_schedule>0),  sum(sub$drip_schedule>0) /m))\n",
    "print(paste('bundles:        ', sum(data$bundles>0),        sum(data$bundles>0)       /n, sum(sub$bundles>0)       /sum(data$bundles>0),        sum(sub$bundles>0)       /m))\n",
    "print(paste('private/hidden: ', sum(data$private_hidden>0), sum(data$private_hidden>0)/n, sum(sub$private_hidden>0)/sum(data$private_hidden>0), sum(sub$private_hidden>0)/m))\n",
    "print(paste('white label:    ', sum(data$white_label),      sum(data$white_label)     /n, sum(sub$white_label)     /sum(data$white_label),      sum(sub$white_label)     /m))\n",
    "print(paste('certificates:   ', sum(data$certificates>0),   sum(data$certificates>0)  /n, sum(sub$certificates>0)  /sum(data$certificates>0),   sum(sub$certificates>0)  /m))\n",
    "print(paste('zapier:         ', sum(data$zapier),           sum(data$zapier)          /n, sum(sub$zapier)          /sum(data$zapier),           sum(sub$zapier)          /m))\n",
    "print(paste('free trial:     ', sum(data$free_trial>0),     sum(data$free_trial>0)    /n, sum(sub$free_trial>0)    /sum(data$free_trial>0),     sum(sub$free_trial>0)    /m))"
   ]
  },
  {
   "cell_type": "markdown",
   "metadata": {},
   "source": [
    "## Bivariate Survival Stuff"
   ]
  },
  {
   "cell_type": "code",
   "execution_count": 8,
   "metadata": {},
   "outputs": [
    {
     "data": {},
     "metadata": {},
     "output_type": "display_data"
    },
    {
     "data": {
      "image/png": "[encoded data removed]",
      "text/plain": [
       "plot without title"
      ]
     },
     "metadata": {},
     "output_type": "display_data"
    }
   ],
   "source": [
    "surv.email <- survfit(Surv(time, status == 1) ~ coupons>0, data = data)\n",
    "\n",
    "# Plot \n",
    "colours <- c('blue', 'red')\n",
    "names(colours) <- c('True', 'False')\n",
    "ggplot(data = NULL) +\n",
    "    # For the first group: False - no payment integration\n",
    "    geom_line(aes(surv.email$time[1:surv.email$strata[1]], 1 - surv.email$lower[1:surv.email$strata[1]]), \n",
    "              lty = 2, colour = 'red') +\n",
    "    geom_line(aes(surv.email$time[1:surv.email$strata[1]], 1 - surv.email$upper[1:surv.email$strata[1]]), \n",
    "              lty = 2, colour = 'red') +\n",
    "    geom_line(aes(surv.email$time[1:surv.email$strata[1]], 1 - surv.email$surv[1:surv.email$strata[1]], \n",
    "                 colour = 'False')) +\n",
    "\n",
    "    # For the second group: True - with payment integration\n",
    "    geom_line(aes(surv.email$time[(surv.email$strata[1]+1):length(surv.email$surv)], 1 - surv.email$lower[(surv.email$strata[1]+1):length(surv.email$surv)]), \n",
    "              lty = 2, colour = 'blue') +\n",
    "    geom_line(aes(surv.email$time[(surv.email$strata[1]+1):length(surv.email$surv)], 1 - surv.email$upper[(surv.email$strata[1]+1):length(surv.email$surv)]), \n",
    "              lty = 2, colour = 'blue') +\n",
    "    geom_line(aes(surv.email$time[(surv.email$strata[1]+1):length(surv.email$surv)], 1 - surv.email$surv[(surv.email$strata[1]+1):length(surv.email$surv)], \n",
    "                 colour = 'True')) +\n",
    "\n",
    "    scale_x_continuous(\"Time since Creation (in years)\", breaks = c(0, 365.25, 730.5, 1095.75, 1461, 1826.25), \n",
    "                       labels = c('0', '1', '2', '3', '4', '5')) + \n",
    "    ylab(\"Churn Rate\") + ylim(c(0, 1)) +\n",
    "    scale_colour_manual(\"\", values = colours) +\n",
    "    ggtitle(\"Sales Coupons\") +\n",
    "    theme_light() + theme(legend.position = c(.13,.87), legend.background = element_rect(fill=\"transparent\",colour=NA))\n",
    "\n",
    "ggsave('img/km_coupon.png', height = 3, width = 4)"
   ]
  },
  {
   "cell_type": "code",
   "execution_count": 9,
   "metadata": {},
   "outputs": [
    {
     "data": {
      "text/html": [
       "<ol class=list-inline>\n",
       "\t<li>0.684998559183238</li>\n",
       "\t<li>0.344880738159371</li>\n",
       "</ol>\n"
      ],
      "text/latex": [
       "\\begin{enumerate*}\n",
       "\\item 0.684998559183238\n",
       "\\item 0.344880738159371\n",
       "\\end{enumerate*}\n"
      ],
      "text/markdown": [
       "1. 0.684998559183238\n",
       "2. 0.344880738159371\n",
       "\n",
       "\n"
      ],
      "text/plain": [
       "[1] 0.6849986 0.3448807"
      ]
     },
     "metadata": {},
     "output_type": "display_data"
    }
   ],
   "source": [
    "1 - surv.email$surv[surv.email$time == 365]"
   ]
  },
  {
   "cell_type": "code",
   "execution_count": 10,
   "metadata": {},
   "outputs": [
    {
     "data": {},
     "metadata": {},
     "output_type": "display_data"
    },
    {
     "data": {
      "image/png": "[encoded data removed]",
      "text/plain": [
       "plot without title"
      ]
     },
     "metadata": {},
     "output_type": "display_data"
    }
   ],
   "source": [
    "surv.email <- survfit(Surv(time, status == 1) ~ white_label, data = data)\n",
    "\n",
    "# Plot \n",
    "colours <- c('blue', 'red')\n",
    "names(colours) <- c('True', 'False')\n",
    "ggplot(data = NULL) +\n",
    "    # For the first group: False - no payment integration\n",
    "    geom_line(aes(surv.email$time[1:surv.email$strata[1]], 1 - surv.email$lower[1:surv.email$strata[1]]), \n",
    "              lty = 2, colour = 'red') +\n",
    "    geom_line(aes(surv.email$time[1:surv.email$strata[1]], 1 - surv.email$upper[1:surv.email$strata[1]]), \n",
    "              lty = 2, colour = 'red') +\n",
    "    geom_line(aes(surv.email$time[1:surv.email$strata[1]], 1 - surv.email$surv[1:surv.email$strata[1]], \n",
    "                 colour = 'False')) +\n",
    "\n",
    "    # For the second group: True - with payment integration\n",
    "    geom_line(aes(surv.email$time[(surv.email$strata[1]+1):length(surv.email$surv)], 1 - surv.email$lower[(surv.email$strata[1]+1):length(surv.email$surv)]), \n",
    "              lty = 2, colour = 'blue') +\n",
    "    geom_line(aes(surv.email$time[(surv.email$strata[1]+1):length(surv.email$surv)], 1 - surv.email$upper[(surv.email$strata[1]+1):length(surv.email$surv)]), \n",
    "              lty = 2, colour = 'blue') +\n",
    "    geom_line(aes(surv.email$time[(surv.email$strata[1]+1):length(surv.email$surv)], 1 - surv.email$surv[(surv.email$strata[1]+1):length(surv.email$surv)], \n",
    "                 colour = 'True')) +\n",
    "\n",
    "    scale_x_continuous(\"Time since Creation (in years)\", breaks = c(0, 365.25, 730.5, 1095.75, 1461, 1826.25), \n",
    "                       labels = c('0', '1', '2', '3', '4', '5')) + \n",
    "    ylab(\"Churn Rate\") + ylim(c(0, 1)) +\n",
    "    scale_colour_manual(\"\", values = colours) +\n",
    "    ggtitle(\"White Labelling\") +\n",
    "    theme_light() + theme(legend.position = c(.13,.87), legend.background = element_rect(fill=\"transparent\",colour=NA))\n",
    "\n",
    "ggsave('img/km_wl.png', height = 3, width = 4)"
   ]
  },
  {
   "cell_type": "code",
   "execution_count": 11,
   "metadata": {},
   "outputs": [
    {
     "data": {
      "text/html": [
       "<ol class=list-inline>\n",
       "\t<li>0.652760466069322</li>\n",
       "\t<li>0.33135651917333</li>\n",
       "</ol>\n"
      ],
      "text/latex": [
       "\\begin{enumerate*}\n",
       "\\item 0.652760466069322\n",
       "\\item 0.33135651917333\n",
       "\\end{enumerate*}\n"
      ],
      "text/markdown": [
       "1. 0.652760466069322\n",
       "2. 0.33135651917333\n",
       "\n",
       "\n"
      ],
      "text/plain": [
       "[1] 0.6527605 0.3313565"
      ]
     },
     "metadata": {},
     "output_type": "display_data"
    }
   ],
   "source": [
    "1 - surv.email$surv[surv.email$time == 365]"
   ]
  },
  {
   "cell_type": "code",
   "execution_count": 12,
   "metadata": {},
   "outputs": [
    {
     "data": {},
     "metadata": {},
     "output_type": "display_data"
    },
    {
     "data": {
      "image/png": "[encoded data removed]",
      "text/plain": [
       "plot without title"
      ]
     },
     "metadata": {},
     "output_type": "display_data"
    }
   ],
   "source": [
    "surv.email <- survfit(Surv(time, status == 1) ~ private_hidden>0, data = data)\n",
    "\n",
    "# Plot \n",
    "colours <- c('blue', 'red')\n",
    "names(colours) <- c('True', 'False')\n",
    "ggplot(data = NULL) +\n",
    "    # For the first group: False - no payment integration\n",
    "    geom_line(aes(surv.email$time[1:surv.email$strata[1]], 1 - surv.email$lower[1:surv.email$strata[1]]), \n",
    "              lty = 2, colour = 'red') +\n",
    "    geom_line(aes(surv.email$time[1:surv.email$strata[1]], 1 - surv.email$upper[1:surv.email$strata[1]]), \n",
    "              lty = 2, colour = 'red') +\n",
    "    geom_line(aes(surv.email$time[1:surv.email$strata[1]], 1 - surv.email$surv[1:surv.email$strata[1]], \n",
    "                 colour = 'False')) +\n",
    "\n",
    "    # For the second group: True - with payment integration\n",
    "    geom_line(aes(surv.email$time[(surv.email$strata[1]+1):length(surv.email$surv)], 1 - surv.email$lower[(surv.email$strata[1]+1):length(surv.email$surv)]), \n",
    "              lty = 2, colour = 'blue') +\n",
    "    geom_line(aes(surv.email$time[(surv.email$strata[1]+1):length(surv.email$surv)], 1 - surv.email$upper[(surv.email$strata[1]+1):length(surv.email$surv)]), \n",
    "              lty = 2, colour = 'blue') +\n",
    "    geom_line(aes(surv.email$time[(surv.email$strata[1]+1):length(surv.email$surv)], 1 - surv.email$surv[(surv.email$strata[1]+1):length(surv.email$surv)], \n",
    "                 colour = 'True')) +\n",
    "\n",
    "    scale_x_continuous(\"Time since Creation (in years)\", breaks = c(0, 365.25, 730.5, 1095.75, 1461, 1826.25), \n",
    "                       labels = c('0', '1', '2', '3', '4', '5')) + \n",
    "    ylab(\"Churn Rate\") + ylim(c(0, 1)) +\n",
    "    scale_colour_manual(\"\", values = colours) +\n",
    "    ggtitle(\"Private/Hidden Courses\") +\n",
    "    theme_light() + theme(legend.position = c(.13,.87), legend.background = element_rect(fill=\"transparent\",colour=NA))\n",
    "\n",
    "ggsave('img/km_priv.png', height = 3, width = 4)"
   ]
  },
  {
   "cell_type": "code",
   "execution_count": 13,
   "metadata": {},
   "outputs": [
    {
     "data": {
      "text/html": [
       "<ol class=list-inline>\n",
       "\t<li>0.659917990201554</li>\n",
       "\t<li>0.248515518848564</li>\n",
       "</ol>\n"
      ],
      "text/latex": [
       "\\begin{enumerate*}\n",
       "\\item 0.659917990201554\n",
       "\\item 0.248515518848564\n",
       "\\end{enumerate*}\n"
      ],
      "text/markdown": [
       "1. 0.659917990201554\n",
       "2. 0.248515518848564\n",
       "\n",
       "\n"
      ],
      "text/plain": [
       "[1] 0.6599180 0.2485155"
      ]
     },
     "metadata": {},
     "output_type": "display_data"
    }
   ],
   "source": [
    "1 - surv.email$surv[surv.email$time == 365]"
   ]
  },
  {
   "cell_type": "code",
   "execution_count": 14,
   "metadata": {},
   "outputs": [
    {
     "data": {},
     "metadata": {},
     "output_type": "display_data"
    },
    {
     "data": {
      "image/png": "[encoded data removed]",
      "text/plain": [
       "plot without title"
      ]
     },
     "metadata": {},
     "output_type": "display_data"
    }
   ],
   "source": [
    "surv.email <- survfit(Surv(time, status == 1) ~ bundles>0, data = data)\n",
    "\n",
    "# Plot \n",
    "colours <- c('blue', 'red')\n",
    "names(colours) <- c('True', 'False')\n",
    "ggplot(data = NULL) +\n",
    "    # For the first group: False - no payment integration\n",
    "    geom_line(aes(surv.email$time[1:surv.email$strata[1]], 1 - surv.email$lower[1:surv.email$strata[1]]), \n",
    "              lty = 2, colour = 'red') +\n",
    "    geom_line(aes(surv.email$time[1:surv.email$strata[1]], 1 - surv.email$upper[1:surv.email$strata[1]]), \n",
    "              lty = 2, colour = 'red') +\n",
    "    geom_line(aes(surv.email$time[1:surv.email$strata[1]], 1 - surv.email$surv[1:surv.email$strata[1]], \n",
    "                 colour = 'False')) +\n",
    "\n",
    "    # For the second group: True - with payment integration\n",
    "    geom_line(aes(surv.email$time[(surv.email$strata[1]+1):length(surv.email$surv)], 1 - surv.email$lower[(surv.email$strata[1]+1):length(surv.email$surv)]), \n",
    "              lty = 2, colour = 'blue') +\n",
    "    geom_line(aes(surv.email$time[(surv.email$strata[1]+1):length(surv.email$surv)], 1 - surv.email$upper[(surv.email$strata[1]+1):length(surv.email$surv)]), \n",
    "              lty = 2, colour = 'blue') +\n",
    "    geom_line(aes(surv.email$time[(surv.email$strata[1]+1):length(surv.email$surv)], 1 - surv.email$surv[(surv.email$strata[1]+1):length(surv.email$surv)], \n",
    "                 colour = 'True')) +\n",
    "\n",
    "    scale_x_continuous(\"Time since Creation (in years)\", breaks = c(0, 365.25, 730.5, 1095.75, 1461, 1826.25), \n",
    "                       labels = c('0', '1', '2', '3', '4', '5')) + \n",
    "    ylab(\"Churn Rate\") + ylim(c(0, 1)) +\n",
    "    scale_colour_manual(\"\", values = colours) +\n",
    "    ggtitle(\"Course Bundles\") +\n",
    "    theme_light() + theme(legend.position = c(.13,.87), legend.background = element_rect(fill=\"transparent\",colour=NA))\n",
    "\n",
    "ggsave('img/km_bundle.png', height = 3, width = 4)"
   ]
  },
  {
   "cell_type": "code",
   "execution_count": 15,
   "metadata": {},
   "outputs": [
    {
     "data": {
      "text/html": [
       "<ol class=list-inline>\n",
       "\t<li>0.63433626752394</li>\n",
       "\t<li>0.302763093320281</li>\n",
       "</ol>\n"
      ],
      "text/latex": [
       "\\begin{enumerate*}\n",
       "\\item 0.63433626752394\n",
       "\\item 0.302763093320281\n",
       "\\end{enumerate*}\n"
      ],
      "text/markdown": [
       "1. 0.63433626752394\n",
       "2. 0.302763093320281\n",
       "\n",
       "\n"
      ],
      "text/plain": [
       "[1] 0.6343363 0.3027631"
      ]
     },
     "metadata": {},
     "output_type": "display_data"
    }
   ],
   "source": [
    "1 - surv.email$surv[surv.email$time == 365]"
   ]
  },
  {
   "cell_type": "code",
   "execution_count": 16,
   "metadata": {},
   "outputs": [
    {
     "data": {},
     "metadata": {},
     "output_type": "display_data"
    },
    {
     "data": {
      "image/png": "[encoded data removed]",
      "text/plain": [
       "plot without title"
      ]
     },
     "metadata": {},
     "output_type": "display_data"
    }
   ],
   "source": [
    "surv.email <- survfit(Surv(time, status == 1) ~ drip_schedule>0, data = data)\n",
    "\n",
    "# Plot \n",
    "colours <- c('blue', 'red')\n",
    "names(colours) <- c('True', 'False')\n",
    "ggplot(data = NULL) +\n",
    "    # For the first group: False - no payment integration\n",
    "    geom_line(aes(surv.email$time[1:surv.email$strata[1]], 1 - surv.email$lower[1:surv.email$strata[1]]), \n",
    "              lty = 2, colour = 'red') +\n",
    "    geom_line(aes(surv.email$time[1:surv.email$strata[1]], 1 - surv.email$upper[1:surv.email$strata[1]]), \n",
    "              lty = 2, colour = 'red') +\n",
    "    geom_line(aes(surv.email$time[1:surv.email$strata[1]], 1 - surv.email$surv[1:surv.email$strata[1]], \n",
    "                 colour = 'False')) +\n",
    "\n",
    "    # For the second group: True - with payment integration\n",
    "    geom_line(aes(surv.email$time[(surv.email$strata[1]+1):length(surv.email$surv)], 1 - surv.email$lower[(surv.email$strata[1]+1):length(surv.email$surv)]), \n",
    "              lty = 2, colour = 'blue') +\n",
    "    geom_line(aes(surv.email$time[(surv.email$strata[1]+1):length(surv.email$surv)], 1 - surv.email$upper[(surv.email$strata[1]+1):length(surv.email$surv)]), \n",
    "              lty = 2, colour = 'blue') +\n",
    "    geom_line(aes(surv.email$time[(surv.email$strata[1]+1):length(surv.email$surv)], 1 - surv.email$surv[(surv.email$strata[1]+1):length(surv.email$surv)], \n",
    "                 colour = 'True')) +\n",
    "\n",
    "    scale_x_continuous(\"Time since Creation (in years)\", breaks = c(0, 365.25, 730.5, 1095.75, 1461, 1826.25), \n",
    "                       labels = c('0', '1', '2', '3', '4', '5')) + \n",
    "    ylab(\"Churn Rate\") + ylim(c(0, 1)) +\n",
    "    scale_colour_manual(\"\", values = colours) +\n",
    "    ggtitle(\"Dip Schedule\") +\n",
    "    theme_light() + theme(legend.position = c(.13,.87), legend.background = element_rect(fill=\"transparent\",colour=NA))\n",
    "\n",
    "ggsave('img/km_ds.png', height = 3, width = 4)"
   ]
  },
  {
   "cell_type": "code",
   "execution_count": 17,
   "metadata": {},
   "outputs": [
    {
     "data": {
      "text/html": [
       "<ol class=list-inline>\n",
       "\t<li>0.590611408918034</li>\n",
       "\t<li>0.36702504704421</li>\n",
       "</ol>\n"
      ],
      "text/latex": [
       "\\begin{enumerate*}\n",
       "\\item 0.590611408918034\n",
       "\\item 0.36702504704421\n",
       "\\end{enumerate*}\n"
      ],
      "text/markdown": [
       "1. 0.590611408918034\n",
       "2. 0.36702504704421\n",
       "\n",
       "\n"
      ],
      "text/plain": [
       "[1] 0.5906114 0.3670250"
      ]
     },
     "metadata": {},
     "output_type": "display_data"
    }
   ],
   "source": [
    "1 - surv.email$surv[surv.email$time == 365]"
   ]
  },
  {
   "cell_type": "code",
   "execution_count": 18,
   "metadata": {},
   "outputs": [
    {
     "data": {},
     "metadata": {},
     "output_type": "display_data"
    },
    {
     "data": {
      "image/png": "[encoded data removed]",
      "text/plain": [
       "plot without title"
      ]
     },
     "metadata": {},
     "output_type": "display_data"
    }
   ],
   "source": [
    "surv.email <- survfit(Surv(time, status == 1) ~ certificates>0, data = data)\n",
    "\n",
    "# Plot \n",
    "colours <- c('blue', 'red')\n",
    "names(colours) <- c('True', 'False')\n",
    "ggplot(data = NULL) +\n",
    "    # For the first group: False - no payment integration\n",
    "    geom_line(aes(surv.email$time[1:surv.email$strata[1]], 1 - surv.email$lower[1:surv.email$strata[1]]), \n",
    "              lty = 2, colour = 'red') +\n",
    "    geom_line(aes(surv.email$time[1:surv.email$strata[1]], 1 - surv.email$upper[1:surv.email$strata[1]]), \n",
    "              lty = 2, colour = 'red') +\n",
    "    geom_line(aes(surv.email$time[1:surv.email$strata[1]], 1 - surv.email$surv[1:surv.email$strata[1]], \n",
    "                 colour = 'False')) +\n",
    "\n",
    "    # For the second group: True - with payment integration\n",
    "    geom_line(aes(surv.email$time[(surv.email$strata[1]+1):length(surv.email$surv)], 1 - surv.email$lower[(surv.email$strata[1]+1):length(surv.email$surv)]), \n",
    "              lty = 2, colour = 'blue') +\n",
    "    geom_line(aes(surv.email$time[(surv.email$strata[1]+1):length(surv.email$surv)], 1 - surv.email$upper[(surv.email$strata[1]+1):length(surv.email$surv)]), \n",
    "              lty = 2, colour = 'blue') +\n",
    "    geom_line(aes(surv.email$time[(surv.email$strata[1]+1):length(surv.email$surv)], 1 - surv.email$surv[(surv.email$strata[1]+1):length(surv.email$surv)], \n",
    "                 colour = 'True')) +\n",
    "\n",
    "    scale_x_continuous(\"Time since Creation (in years)\", breaks = c(0, 365.25, 730.5, 1095.75, 1461, 1826.25), \n",
    "                       labels = c('0', '1', '2', '3', '4', '5')) + \n",
    "    ylab(\"Churn Rate\") + ylim(c(0, 1)) +\n",
    "    scale_colour_manual(\"\", values = colours) +\n",
    "    ggtitle(\"Certificates\") +\n",
    "    theme_light() + theme(legend.position = c(.13,.87), legend.background = element_rect(fill=\"transparent\",colour=NA))\n",
    "\n",
    "ggsave('img/km_certif.png', height = 3, width = 4)"
   ]
  },
  {
   "cell_type": "code",
   "execution_count": 19,
   "metadata": {},
   "outputs": [
    {
     "data": {
      "text/html": [
       "<ol class=list-inline>\n",
       "\t<li>0.590105275267137</li>\n",
       "\t<li>0.152929142980361</li>\n",
       "</ol>\n"
      ],
      "text/latex": [
       "\\begin{enumerate*}\n",
       "\\item 0.590105275267137\n",
       "\\item 0.152929142980361\n",
       "\\end{enumerate*}\n"
      ],
      "text/markdown": [
       "1. 0.590105275267137\n",
       "2. 0.152929142980361\n",
       "\n",
       "\n"
      ],
      "text/plain": [
       "[1] 0.5901053 0.1529291"
      ]
     },
     "metadata": {},
     "output_type": "display_data"
    }
   ],
   "source": [
    "1 - surv.email$surv[surv.email$time == 365]"
   ]
  },
  {
   "cell_type": "code",
   "execution_count": 20,
   "metadata": {},
   "outputs": [
    {
     "data": {},
     "metadata": {},
     "output_type": "display_data"
    },
    {
     "data": {
      "image/png": "[encoded data removed]",
      "text/plain": [
       "plot without title"
      ]
     },
     "metadata": {},
     "output_type": "display_data"
    }
   ],
   "source": [
    "surv.email <- survfit(Surv(time, status == 1) ~ groups>0, data = data)\n",
    "\n",
    "# Plot \n",
    "colours <- c('blue', 'red')\n",
    "names(colours) <- c('True', 'False')\n",
    "ggplot(data = NULL) +\n",
    "    # For the first group: False - no payment integration\n",
    "    geom_line(aes(surv.email$time[1:surv.email$strata[1]], 1 - surv.email$lower[1:surv.email$strata[1]]), \n",
    "              lty = 2, colour = 'red') +\n",
    "    geom_line(aes(surv.email$time[1:surv.email$strata[1]], 1 - surv.email$upper[1:surv.email$strata[1]]), \n",
    "              lty = 2, colour = 'red') +\n",
    "    geom_line(aes(surv.email$time[1:surv.email$strata[1]], 1 - surv.email$surv[1:surv.email$strata[1]], \n",
    "                 colour = 'False')) +\n",
    "\n",
    "    # For the second group: True - with payment integration\n",
    "    geom_line(aes(surv.email$time[(surv.email$strata[1]+1):length(surv.email$surv)], 1 - surv.email$lower[(surv.email$strata[1]+1):length(surv.email$surv)]), \n",
    "              lty = 2, colour = 'blue') +\n",
    "    geom_line(aes(surv.email$time[(surv.email$strata[1]+1):length(surv.email$surv)], 1 - surv.email$upper[(surv.email$strata[1]+1):length(surv.email$surv)]), \n",
    "              lty = 2, colour = 'blue') +\n",
    "    geom_line(aes(surv.email$time[(surv.email$strata[1]+1):length(surv.email$surv)], 1 - surv.email$surv[(surv.email$strata[1]+1):length(surv.email$surv)], \n",
    "                 colour = 'True')) +\n",
    "\n",
    "    scale_x_continuous(\"Time since Creation (in years)\", breaks = c(0, 365.25, 730.5, 1095.75, 1461, 1826.25), \n",
    "                       labels = c('0', '1', '2', '3', '4', '5')) + \n",
    "    ylab(\"Churn Rate\") + ylim(c(0, 1)) +\n",
    "    scale_colour_manual(\"\", values = colours) +\n",
    "    ggtitle(\"User Groups\") +\n",
    "    theme_light() + theme(legend.position = c(.13,.87), legend.background = element_rect(fill=\"transparent\",colour=NA))\n",
    "\n",
    "ggsave('img/km_group.png', height = 3, width = 4)"
   ]
  },
  {
   "cell_type": "code",
   "execution_count": 21,
   "metadata": {},
   "outputs": [
    {
     "data": {
      "text/html": [
       "<ol class=list-inline>\n",
       "\t<li>0.582248985530327</li>\n",
       "\t<li>0.149911249521331</li>\n",
       "</ol>\n"
      ],
      "text/latex": [
       "\\begin{enumerate*}\n",
       "\\item 0.582248985530327\n",
       "\\item 0.149911249521331\n",
       "\\end{enumerate*}\n"
      ],
      "text/markdown": [
       "1. 0.582248985530327\n",
       "2. 0.149911249521331\n",
       "\n",
       "\n"
      ],
      "text/plain": [
       "[1] 0.5822490 0.1499112"
      ]
     },
     "metadata": {},
     "output_type": "display_data"
    }
   ],
   "source": [
    "1 - surv.email$surv[surv.email$time == 366]"
   ]
  },
  {
   "cell_type": "code",
   "execution_count": 22,
   "metadata": {},
   "outputs": [
    {
     "data": {},
     "metadata": {},
     "output_type": "display_data"
    },
    {
     "data": {
      "image/png": "[encoded data removed]",
      "text/plain": [
       "plot without title"
      ]
     },
     "metadata": {},
     "output_type": "display_data"
    }
   ],
   "source": [
    "surv.email <- survfit(Surv(time, status == 1) ~ zapier, data = data)\n",
    "\n",
    "# Plot \n",
    "colours <- c('blue', 'red')\n",
    "names(colours) <- c('True', 'False')\n",
    "ggplot(data = NULL) +\n",
    "    # For the first group: False - no payment integration\n",
    "    geom_line(aes(surv.email$time[1:surv.email$strata[1]], 1 - surv.email$lower[1:surv.email$strata[1]]), \n",
    "              lty = 2, colour = 'red') +\n",
    "    geom_line(aes(surv.email$time[1:surv.email$strata[1]], 1 - surv.email$upper[1:surv.email$strata[1]]), \n",
    "              lty = 2, colour = 'red') +\n",
    "    geom_line(aes(surv.email$time[1:surv.email$strata[1]], 1 - surv.email$surv[1:surv.email$strata[1]], \n",
    "                 colour = 'False')) +\n",
    "\n",
    "    # For the second group: True - with payment integration\n",
    "    geom_line(aes(surv.email$time[(surv.email$strata[1]+1):length(surv.email$surv)], 1 - surv.email$lower[(surv.email$strata[1]+1):length(surv.email$surv)]), \n",
    "              lty = 2, colour = 'blue') +\n",
    "    geom_line(aes(surv.email$time[(surv.email$strata[1]+1):length(surv.email$surv)], 1 - surv.email$upper[(surv.email$strata[1]+1):length(surv.email$surv)]), \n",
    "              lty = 2, colour = 'blue') +\n",
    "    geom_line(aes(surv.email$time[(surv.email$strata[1]+1):length(surv.email$surv)], 1 - surv.email$surv[(surv.email$strata[1]+1):length(surv.email$surv)], \n",
    "                 colour = 'True')) +\n",
    "\n",
    "    scale_x_continuous(\"Time since Creation (in years)\", breaks = c(0, 365.25, 730.5, 1095.75, 1461, 1826.25), \n",
    "                       labels = c('0', '1', '2', '3', '4', '5')) + \n",
    "    ylab(\"Churn Rate\") + ylim(c(0, 1)) +\n",
    "    scale_colour_manual(\"\", values = colours) +\n",
    "    ggtitle(\"Zapier Integration\") +\n",
    "    theme_light() + theme(legend.position = c(.13,.87), legend.background = element_rect(fill=\"transparent\",colour=NA))\n",
    "\n",
    "ggsave('img/km_zapier.png', height = 3, width = 4)"
   ]
  },
  {
   "cell_type": "code",
   "execution_count": 23,
   "metadata": {},
   "outputs": [
    {
     "data": {
      "text/html": [
       "<ol class=list-inline>\n",
       "\t<li>0.558439144499493</li>\n",
       "\t<li>0.205784353909583</li>\n",
       "</ol>\n"
      ],
      "text/latex": [
       "\\begin{enumerate*}\n",
       "\\item 0.558439144499493\n",
       "\\item 0.205784353909583\n",
       "\\end{enumerate*}\n"
      ],
      "text/markdown": [
       "1. 0.558439144499493\n",
       "2. 0.205784353909583\n",
       "\n",
       "\n"
      ],
      "text/plain": [
       "[1] 0.5584391 0.2057844"
      ]
     },
     "metadata": {},
     "output_type": "display_data"
    }
   ],
   "source": [
    "1 - surv.email$surv[surv.email$time == 365]"
   ]
  },
  {
   "cell_type": "code",
   "execution_count": 24,
   "metadata": {},
   "outputs": [
    {
     "data": {},
     "metadata": {},
     "output_type": "display_data"
    },
    {
     "data": {
      "image/png": "[encoded data removed]",
      "text/plain": [
       "plot without title"
      ]
     },
     "metadata": {},
     "output_type": "display_data"
    }
   ],
   "source": [
    "surv.email <- survfit(Surv(time, status == 1) ~ free_trial>0, data = data)\n",
    "\n",
    "# Plot \n",
    "colours <- c('blue', 'red')\n",
    "names(colours) <- c('True', 'False')\n",
    "ggplot(data = NULL) +\n",
    "    # For the first group: False - no payment integration\n",
    "    geom_line(aes(surv.email$time[1:surv.email$strata[1]], 1 - surv.email$lower[1:surv.email$strata[1]]), \n",
    "              lty = 2, colour = 'red') +\n",
    "    geom_line(aes(surv.email$time[1:surv.email$strata[1]], 1 - surv.email$upper[1:surv.email$strata[1]]), \n",
    "              lty = 2, colour = 'red') +\n",
    "    geom_line(aes(surv.email$time[1:surv.email$strata[1]], 1 - surv.email$surv[1:surv.email$strata[1]], \n",
    "                 colour = 'False')) +\n",
    "\n",
    "    # For the second group: True - with payment integration\n",
    "    geom_line(aes(surv.email$time[(surv.email$strata[1]+1):length(surv.email$surv)], 1 - surv.email$lower[(surv.email$strata[1]+1):length(surv.email$surv)]), \n",
    "              lty = 2, colour = 'blue') +\n",
    "    geom_line(aes(surv.email$time[(surv.email$strata[1]+1):length(surv.email$surv)], 1 - surv.email$upper[(surv.email$strata[1]+1):length(surv.email$surv)]), \n",
    "              lty = 2, colour = 'blue') +\n",
    "    geom_line(aes(surv.email$time[(surv.email$strata[1]+1):length(surv.email$surv)], 1 - surv.email$surv[(surv.email$strata[1]+1):length(surv.email$surv)], \n",
    "                 colour = 'True')) +\n",
    "\n",
    "    scale_x_continuous(\"Time since Creation (in years)\", breaks = c(0, 365.25, 730.5, 1095.75, 1461, 1826.25), \n",
    "                       labels = c('0', '1', '2', '3', '4', '5')) + \n",
    "    ylab(\"Churn Rate\") + ylim(c(0, 1)) +\n",
    "    scale_colour_manual(\"\", values = colours) +\n",
    "    ggtitle(\"Free Trial\") +\n",
    "    theme_light() + theme(legend.position = c(.13,.87), legend.background = element_rect(fill=\"transparent\",colour=NA))\n",
    "\n",
    "ggsave('img/km_promo.png', height = 3, width = 4)"
   ]
  },
  {
   "cell_type": "code",
   "execution_count": 25,
   "metadata": {},
   "outputs": [
    {
     "data": {
      "text/html": [
       "<ol class=list-inline>\n",
       "\t<li>0.42548297782273</li>\n",
       "\t<li>0.77368153196506</li>\n",
       "</ol>\n"
      ],
      "text/latex": [
       "\\begin{enumerate*}\n",
       "\\item 0.42548297782273\n",
       "\\item 0.77368153196506\n",
       "\\end{enumerate*}\n"
      ],
      "text/markdown": [
       "1. 0.42548297782273\n",
       "2. 0.77368153196506\n",
       "\n",
       "\n"
      ],
      "text/plain": [
       "[1] 0.4254830 0.7736815"
      ]
     },
     "metadata": {},
     "output_type": "display_data"
    }
   ],
   "source": [
    "1 - surv.email$surv[surv.email$time == 365]"
   ]
  },
  {
   "cell_type": "code",
   "execution_count": 26,
   "metadata": {},
   "outputs": [
    {
     "data": {
      "text/plain": [
       "Call:\n",
       "coxph(formula = Surv(time, status == 1) ~ coupons == 0, data = data)\n",
       "\n",
       "  n= 12392, number of events= 6718 \n",
       "\n",
       "                   coef exp(coef) se(coef)     z Pr(>|z|)    \n",
       "coupons == 0TRUE 1.0457    2.8453   0.0264 39.62   <2e-16 ***\n",
       "---\n",
       "Signif. codes:  0 '***' 0.001 '**' 0.01 '*' 0.05 '.' 0.1 ' ' 1\n",
       "\n",
       "                 exp(coef) exp(-coef) lower .95 upper .95\n",
       "coupons == 0TRUE     2.845     0.3515     2.702     2.996\n",
       "\n",
       "Concordance= 0.641  (se = 0.003 )\n",
       "Rsquare= 0.128   (max possible= 1 )\n",
       "Likelihood ratio test= 1691  on 1 df,   p=<2e-16\n",
       "Wald test            = 1569  on 1 df,   p=<2e-16\n",
       "Score (logrank) test = 1703  on 1 df,   p=<2e-16\n"
      ]
     },
     "metadata": {},
     "output_type": "display_data"
    }
   ],
   "source": [
    "summary(coxph(Surv(time, status == 1) ~ coupons==0, data=data))"
   ]
  },
  {
   "cell_type": "code",
   "execution_count": 27,
   "metadata": {},
   "outputs": [
    {
     "data": {
      "text/plain": [
       "Call:\n",
       "coxph(formula = Surv(time, status == 1) ~ !white_label, data = data)\n",
       "\n",
       "  n= 12392, number of events= 6718 \n",
       "\n",
       "                    coef exp(coef) se(coef)     z Pr(>|z|)    \n",
       "!white_labelTRUE 0.96072   2.61357  0.02805 34.25   <2e-16 ***\n",
       "---\n",
       "Signif. codes:  0 '***' 0.001 '**' 0.01 '*' 0.05 '.' 0.1 ' ' 1\n",
       "\n",
       "                 exp(coef) exp(-coef) lower .95 upper .95\n",
       "!white_labelTRUE     2.614     0.3826     2.474     2.761\n",
       "\n",
       "Concordance= 0.615  (se = 0.003 )\n",
       "Rsquare= 0.102   (max possible= 1 )\n",
       "Likelihood ratio test= 1326  on 1 df,   p=<2e-16\n",
       "Wald test            = 1173  on 1 df,   p=<2e-16\n",
       "Score (logrank) test = 1262  on 1 df,   p=<2e-16\n"
      ]
     },
     "metadata": {},
     "output_type": "display_data"
    }
   ],
   "source": [
    "summary(coxph(Surv(time, status == 1) ~ !white_label, data=data))"
   ]
  },
  {
   "cell_type": "code",
   "execution_count": 28,
   "metadata": {},
   "outputs": [
    {
     "data": {
      "text/plain": [
       "Call:\n",
       "coxph(formula = Surv(time, status == 1) ~ private_hidden == 0, \n",
       "    data = data)\n",
       "\n",
       "  n= 12392, number of events= 6718 \n",
       "\n",
       "                           coef exp(coef) se(coef)     z Pr(>|z|)    \n",
       "private_hidden == 0TRUE 1.24899   3.48682  0.03234 38.63   <2e-16 ***\n",
       "---\n",
       "Signif. codes:  0 '***' 0.001 '**' 0.01 '*' 0.05 '.' 0.1 ' ' 1\n",
       "\n",
       "                        exp(coef) exp(-coef) lower .95 upper .95\n",
       "private_hidden == 0TRUE     3.487     0.2868     3.273     3.715\n",
       "\n",
       "Concordance= 0.625  (se = 0.003 )\n",
       "Rsquare= 0.14   (max possible= 1 )\n",
       "Likelihood ratio test= 1865  on 1 df,   p=<2e-16\n",
       "Wald test            = 1492  on 1 df,   p=<2e-16\n",
       "Score (logrank) test = 1677  on 1 df,   p=<2e-16\n"
      ]
     },
     "metadata": {},
     "output_type": "display_data"
    }
   ],
   "source": [
    "summary(coxph(Surv(time, status == 1) ~ private_hidden==0, data=data))"
   ]
  },
  {
   "cell_type": "code",
   "execution_count": 29,
   "metadata": {},
   "outputs": [
    {
     "data": {
      "text/plain": [
       "Call:\n",
       "coxph(formula = Surv(time, status == 1) ~ bundles == 0, data = data)\n",
       "\n",
       "  n= 12392, number of events= 6718 \n",
       "\n",
       "                    coef exp(coef) se(coef)     z Pr(>|z|)    \n",
       "bundles == 0TRUE 0.96269   2.61873  0.03002 32.07   <2e-16 ***\n",
       "---\n",
       "Signif. codes:  0 '***' 0.001 '**' 0.01 '*' 0.05 '.' 0.1 ' ' 1\n",
       "\n",
       "                 exp(coef) exp(-coef) lower .95 upper .95\n",
       "bundles == 0TRUE     2.619     0.3819     2.469     2.777\n",
       "\n",
       "Concordance= 0.607  (se = 0.003 )\n",
       "Rsquare= 0.092   (max possible= 1 )\n",
       "Likelihood ratio test= 1192  on 1 df,   p=<2e-16\n",
       "Wald test            = 1029  on 1 df,   p=<2e-16\n",
       "Score (logrank) test = 1102  on 1 df,   p=<2e-16\n"
      ]
     },
     "metadata": {},
     "output_type": "display_data"
    }
   ],
   "source": [
    "summary(coxph(Surv(time, status == 1) ~ bundles==0, data=data))"
   ]
  },
  {
   "cell_type": "code",
   "execution_count": 30,
   "metadata": {},
   "outputs": [
    {
     "data": {
      "text/plain": [
       "Call:\n",
       "coxph(formula = Surv(time, status == 1) ~ drip_schedule == 0, \n",
       "    data = data)\n",
       "\n",
       "  n= 12392, number of events= 6718 \n",
       "\n",
       "                          coef exp(coef) se(coef)     z Pr(>|z|)    \n",
       "drip_schedule == 0TRUE 0.66722   1.94881  0.03004 22.21   <2e-16 ***\n",
       "---\n",
       "Signif. codes:  0 '***' 0.001 '**' 0.01 '*' 0.05 '.' 0.1 ' ' 1\n",
       "\n",
       "                       exp(coef) exp(-coef) lower .95 upper .95\n",
       "drip_schedule == 0TRUE     1.949     0.5131     1.837     2.067\n",
       "\n",
       "Concordance= 0.575  (se = 0.003 )\n",
       "Rsquare= 0.044   (max possible= 1 )\n",
       "Likelihood ratio test= 553.9  on 1 df,   p=<2e-16\n",
       "Wald test            = 493.2  on 1 df,   p=<2e-16\n",
       "Score (logrank) test = 511.3  on 1 df,   p=<2e-16\n"
      ]
     },
     "metadata": {},
     "output_type": "display_data"
    }
   ],
   "source": [
    "summary(coxph(Surv(time, status == 1) ~ drip_schedule==0, data=data))"
   ]
  },
  {
   "cell_type": "code",
   "execution_count": 31,
   "metadata": {},
   "outputs": [
    {
     "data": {
      "text/plain": [
       "Call:\n",
       "coxph(formula = Surv(time, status == 1) ~ certificates == 0, \n",
       "    data = data)\n",
       "\n",
       "  n= 12392, number of events= 6718 \n",
       "\n",
       "                         coef exp(coef) se(coef)     z Pr(>|z|)    \n",
       "certificates == 0TRUE 1.50481   4.50331  0.05449 27.62   <2e-16 ***\n",
       "---\n",
       "Signif. codes:  0 '***' 0.001 '**' 0.01 '*' 0.05 '.' 0.1 ' ' 1\n",
       "\n",
       "                      exp(coef) exp(-coef) lower .95 upper .95\n",
       "certificates == 0TRUE     4.503     0.2221     4.047     5.011\n",
       "\n",
       "Concordance= 0.572  (se = 0.002 )\n",
       "Rsquare= 0.093   (max possible= 1 )\n",
       "Likelihood ratio test= 1205  on 1 df,   p=<2e-16\n",
       "Wald test            = 762.8  on 1 df,   p=<2e-16\n",
       "Score (logrank) test = 915.2  on 1 df,   p=<2e-16\n"
      ]
     },
     "metadata": {},
     "output_type": "display_data"
    }
   ],
   "source": [
    "summary(coxph(Surv(time, status == 1) ~ certificates==0, data=data))"
   ]
  },
  {
   "cell_type": "code",
   "execution_count": 32,
   "metadata": {},
   "outputs": [
    {
     "data": {
      "text/plain": [
       "Call:\n",
       "coxph(formula = Surv(time, status == 1) ~ groups == 0, data = data)\n",
       "\n",
       "  n= 12392, number of events= 6718 \n",
       "\n",
       "                   coef exp(coef) se(coef)     z Pr(>|z|)    \n",
       "groups == 0TRUE 1.70121   5.48060  0.06684 25.45   <2e-16 ***\n",
       "---\n",
       "Signif. codes:  0 '***' 0.001 '**' 0.01 '*' 0.05 '.' 0.1 ' ' 1\n",
       "\n",
       "                exp(coef) exp(-coef) lower .95 upper .95\n",
       "groups == 0TRUE     5.481     0.1825     4.808     6.248\n",
       "\n",
       "Concordance= 0.562  (se = 0.002 )\n",
       "Rsquare= 0.088   (max possible= 1 )\n",
       "Likelihood ratio test= 1141  on 1 df,   p=<2e-16\n",
       "Wald test            = 647.7  on 1 df,   p=<2e-16\n",
       "Score (logrank) test = 819.5  on 1 df,   p=<2e-16\n"
      ]
     },
     "metadata": {},
     "output_type": "display_data"
    }
   ],
   "source": [
    "summary(coxph(Surv(time, status == 1) ~ groups==0, data=data))"
   ]
  },
  {
   "cell_type": "code",
   "execution_count": 33,
   "metadata": {},
   "outputs": [
    {
     "data": {
      "text/plain": [
       "Call:\n",
       "coxph(formula = Surv(time, status == 1) ~ !zapier, data = data)\n",
       "\n",
       "  n= 12392, number of events= 6718 \n",
       "\n",
       "               coef exp(coef) se(coef)     z Pr(>|z|)    \n",
       "!zapierTRUE 1.18665   3.27610  0.06302 18.83   <2e-16 ***\n",
       "---\n",
       "Signif. codes:  0 '***' 0.001 '**' 0.01 '*' 0.05 '.' 0.1 ' ' 1\n",
       "\n",
       "            exp(coef) exp(-coef) lower .95 upper .95\n",
       "!zapierTRUE     3.276     0.3052     2.895     3.707\n",
       "\n",
       "Concordance= 0.539  (se = 0.002 )\n",
       "Rsquare= 0.041   (max possible= 1 )\n",
       "Likelihood ratio test= 518.9  on 1 df,   p=<2e-16\n",
       "Wald test            = 354.6  on 1 df,   p=<2e-16\n",
       "Score (logrank) test = 398  on 1 df,   p=<2e-16\n"
      ]
     },
     "metadata": {},
     "output_type": "display_data"
    }
   ],
   "source": [
    "summary(coxph(Surv(time, status == 1) ~ !zapier, data=data))"
   ]
  },
  {
   "cell_type": "code",
   "execution_count": 34,
   "metadata": {},
   "outputs": [
    {
     "data": {
      "text/plain": [
       "Call:\n",
       "coxph(formula = Surv(time, status == 1) ~ free_trial > 0, data = data)\n",
       "\n",
       "  n= 12392, number of events= 6718 \n",
       "\n",
       "                      coef exp(coef) se(coef)     z Pr(>|z|)    \n",
       "free_trial > 0TRUE 1.03377   2.81165  0.02555 40.45   <2e-16 ***\n",
       "---\n",
       "Signif. codes:  0 '***' 0.001 '**' 0.01 '*' 0.05 '.' 0.1 ' ' 1\n",
       "\n",
       "                   exp(coef) exp(-coef) lower .95 upper .95\n",
       "free_trial > 0TRUE     2.812     0.3557     2.674     2.956\n",
       "\n",
       "Concordance= 0.619  (se = 0.003 )\n",
       "Rsquare= 0.114   (max possible= 1 )\n",
       "Likelihood ratio test= 1497  on 1 df,   p=<2e-16\n",
       "Wald test            = 1636  on 1 df,   p=<2e-16\n",
       "Score (logrank) test = 1776  on 1 df,   p=<2e-16\n"
      ]
     },
     "metadata": {},
     "output_type": "display_data"
    }
   ],
   "source": [
    "summary(coxph(Surv(time, status == 1) ~ free_trial>0, data=data))"
   ]
  },
  {
   "cell_type": "markdown",
   "metadata": {},
   "source": [
    "## Survival Tree"
   ]
  },
  {
   "cell_type": "code",
   "execution_count": 35,
   "metadata": {
    "collapsed": true
   },
   "outputs": [],
   "source": [
    "# Pass a survival object from Surv() to the function rpart()\n",
    "fit <- rpart(Surv(time, status == 1) ~ nb_enrol + revenue + payment_options + custom_email + \n",
    "                                    funnel + lead_type + coupons + drip_schedule + zapier + bundles + \n",
    "                                    certificates + white_label + private_hidden + groups + free_trial,\n",
    "             data = data %>% mutate(time = time + 1), cp = -1)"
   ]
  },
  {
   "cell_type": "code",
   "execution_count": 36,
   "metadata": {},
   "outputs": [
    {
     "data": {
      "text/html": [
       "<dl class=dl-horizontal>\n",
       "\t<dt>nb_enrol</dt>\n",
       "\t\t<dd>5722.14342182812</dd>\n",
       "\t<dt>revenue</dt>\n",
       "\t\t<dd>3112.32375086721</dd>\n",
       "\t<dt>coupons</dt>\n",
       "\t\t<dd>2573.33910803755</dd>\n",
       "\t<dt>payment_options</dt>\n",
       "\t\t<dd>2208.54686500301</dd>\n",
       "\t<dt>private_hidden</dt>\n",
       "\t\t<dd>2033.65446889265</dd>\n",
       "\t<dt>bundles</dt>\n",
       "\t\t<dd>1889.30561275591</dd>\n",
       "\t<dt>funnel</dt>\n",
       "\t\t<dd>427.393622054201</dd>\n",
       "\t<dt>drip_schedule</dt>\n",
       "\t\t<dd>300.914097231715</dd>\n",
       "\t<dt>certificates</dt>\n",
       "\t\t<dd>277.8100068996</dd>\n",
       "\t<dt>groups</dt>\n",
       "\t\t<dd>248.837073618548</dd>\n",
       "\t<dt>free_trial</dt>\n",
       "\t\t<dd>240.538768636729</dd>\n",
       "\t<dt>white_label</dt>\n",
       "\t\t<dd>224.835558343095</dd>\n",
       "\t<dt>lead_type</dt>\n",
       "\t\t<dd>181.157289272487</dd>\n",
       "\t<dt>custom_email</dt>\n",
       "\t\t<dd>127.74601131683</dd>\n",
       "\t<dt>zapier</dt>\n",
       "\t\t<dd>46.8413089521543</dd>\n",
       "</dl>\n"
      ],
      "text/latex": [
       "\\begin{description*}\n",
       "\\item[nb\\textbackslash{}\\_enrol] 5722.14342182812\n",
       "\\item[revenue] 3112.32375086721\n",
       "\\item[coupons] 2573.33910803755\n",
       "\\item[payment\\textbackslash{}\\_options] 2208.54686500301\n",
       "\\item[private\\textbackslash{}\\_hidden] 2033.65446889265\n",
       "\\item[bundles] 1889.30561275591\n",
       "\\item[funnel] 427.393622054201\n",
       "\\item[drip\\textbackslash{}\\_schedule] 300.914097231715\n",
       "\\item[certificates] 277.8100068996\n",
       "\\item[groups] 248.837073618548\n",
       "\\item[free\\textbackslash{}\\_trial] 240.538768636729\n",
       "\\item[white\\textbackslash{}\\_label] 224.835558343095\n",
       "\\item[lead\\textbackslash{}\\_type] 181.157289272487\n",
       "\\item[custom\\textbackslash{}\\_email] 127.74601131683\n",
       "\\item[zapier] 46.8413089521543\n",
       "\\end{description*}\n"
      ],
      "text/markdown": [
       "nb_enrol\n",
       ":   5722.14342182812revenue\n",
       ":   3112.32375086721coupons\n",
       ":   2573.33910803755payment_options\n",
       ":   2208.54686500301private_hidden\n",
       ":   2033.65446889265bundles\n",
       ":   1889.30561275591funnel\n",
       ":   427.393622054201drip_schedule\n",
       ":   300.914097231715certificates\n",
       ":   277.8100068996groups\n",
       ":   248.837073618548free_trial\n",
       ":   240.538768636729white_label\n",
       ":   224.835558343095lead_type\n",
       ":   181.157289272487custom_email\n",
       ":   127.74601131683zapier\n",
       ":   46.8413089521543\n",
       "\n"
      ],
      "text/plain": [
       "       nb_enrol         revenue         coupons payment_options  private_hidden \n",
       "     5722.14342      3112.32375      2573.33911      2208.54687      2033.65447 \n",
       "        bundles          funnel   drip_schedule    certificates          groups \n",
       "     1889.30561       427.39362       300.91410       277.81001       248.83707 \n",
       "     free_trial     white_label       lead_type    custom_email          zapier \n",
       "      240.53877       224.83556       181.15729       127.74601        46.84131 "
      ]
     },
     "metadata": {},
     "output_type": "display_data"
    }
   ],
   "source": [
    "fit$variable.importance"
   ]
  },
  {
   "cell_type": "code",
   "execution_count": 37,
   "metadata": {},
   "outputs": [
    {
     "name": "stdout",
     "output_type": "stream",
     "text": [
      "n= 12392 \n",
      "\n",
      "node), split, n, deviance, yval\n",
      "      * denotes terminal node\n",
      "\n",
      " 1) root 12392 18210.9200 1.00000000  \n",
      "   2) nb_enrol>=11.5 6194  6114.1450 0.44359730  \n",
      "     4) nb_enrol>=85.5 3280  2494.4340 0.24137800  \n",
      "       8) nb_enrol>=547 1327   725.1913 0.12527930  \n",
      "        16) groups>=0.5 438   103.9573 0.03790094 *\n",
      "        17) groups< 0.5 889   575.4523 0.16736550 *\n",
      "       9) nb_enrol< 547 1953  1633.1810 0.33830520  \n",
      "        18) groups>=0.5 492   257.2169 0.13949700 *\n",
      "        19) groups< 0.5 1461  1309.7830 0.40016950  \n",
      "          38) revenue>=2388.882 572   434.7074 0.27033660 *\n",
      "          39) revenue< 2388.882 889   837.9171 0.49572870 *\n",
      "     5) nb_enrol< 85.5 2914  3003.0830 0.74950070  \n",
      "      10) groups>=0.5 474   390.0415 0.33043180 *\n",
      "      11) groups< 0.5 2440  2515.7180 0.82807630  \n",
      "        22) revenue>=1092.241 522   450.5629 0.48911460 *\n",
      "        23) revenue< 1092.241 1918  1989.2000 0.93637880  \n",
      "          46) certificates>=1.5 213   192.6335 0.51916450 *\n",
      "          47) certificates< 1.5 1705  1759.3100 0.99794820 *\n",
      "   3) nb_enrol< 11.5 6198  8149.0430 2.15004400  \n",
      "     6) nb_enrol>=1.5 2511  3071.0500 1.52637200  \n",
      "      12) revenue>=54.174 459   501.6850 1.08325100 *\n",
      "      13) revenue< 54.174 2052  2527.4560 1.64901100 *\n",
      "     7) nb_enrol< 1.5 3687  4683.4830 2.76013600  \n",
      "      14) free_trial< 0.5 1338  2026.0220 2.28500300 *\n",
      "      15) free_trial>=0.5 2349  2594.8730 3.08111400  \n",
      "        30) funnel=missing 355   530.2430 1.94177800 *\n",
      "        31) funnel=1A-1B,2-4,3A-3B,5 1994  1990.6690 3.35322200 *\n"
     ]
    }
   ],
   "source": [
    "# Print details of the tree\n",
    "fit <- prune(fit, cp=.002)\n",
    "print(fit)"
   ]
  },
  {
   "cell_type": "code",
   "execution_count": 38,
   "metadata": {},
   "outputs": [
    {
     "data": {
      "image/png": "[encoded data removed]",
      "text/plain": [
       "plot without title"
      ]
     },
     "metadata": {},
     "output_type": "display_data"
    }
   ],
   "source": [
    "# Plot the resulting tree\n",
    "options(repr.plot.width = 10, repr.plot.height = 7, warn = FALSE)\n",
    "\n",
    "plot(fit, uniform = T, branch = .4, margin = 0.05)\n",
    "text(fit, use.n = T)"
   ]
  },
  {
   "cell_type": "code",
   "execution_count": 39,
   "metadata": {},
   "outputs": [
    {
     "data": {},
     "metadata": {},
     "output_type": "display_data"
    },
    {
     "data": {
      "image/png": "[encoded data removed]",
      "text/plain": [
       "plot without title"
      ]
     },
     "metadata": {},
     "output_type": "display_data"
    }
   ],
   "source": [
    "data$where <- factor(fit$where)\n",
    "pred <- coxph(Surv(time, status == 1) ~ factor(where), data = data)\n",
    "pred1 <- predict(pred, type = 'expected', newdata = data_frame(\n",
    "    'time' = 1:(4*365),\n",
    "    'status' = 1,\n",
    "    'where' = factor(5)))\n",
    "pred2 <- predict(pred, type = 'expected', newdata = data_frame(\n",
    "    'time' = 1:(4*365),\n",
    "    'status' = 1,\n",
    "    'where' = factor(6)))\n",
    "pred3 <- predict(pred, type = 'expected', newdata = data_frame(\n",
    "    'time' = 1:(4*365),\n",
    "    'status' = 1,\n",
    "    'where' = factor(8)))\n",
    "pred4 <- predict(pred, type = 'expected', newdata = data_frame(\n",
    "    'time' = 1:(4*365),\n",
    "    'status' = 1,\n",
    "    'where' = factor(10)))\n",
    "pred5 <- predict(pred, type = 'expected', newdata = data_frame(\n",
    "    'time' = 1:(4*365),\n",
    "    'status' = 1,\n",
    "    'where' = factor(11)))\n",
    "pred6 <- predict(pred, type = 'expected', newdata = data_frame(\n",
    "    'time' = 1:(4*365),\n",
    "    'status' = 1,\n",
    "    'where' = factor(13)))\n",
    "pred7 <- predict(pred, type = 'expected', newdata = data_frame(\n",
    "    'time' = 1:(4*365),\n",
    "    'status' = 1,\n",
    "    'where' = factor(15)))\n",
    "pred8 <- predict(pred, type = 'expected', newdata = data_frame(\n",
    "    'time' = 1:(4*365),\n",
    "    'status' = 1,\n",
    "    'where' = factor(17)))\n",
    "pred9 <- predict(pred, type = 'expected', newdata = data_frame(\n",
    "    'time' = 1:(4*365),\n",
    "    'status' = 1,\n",
    "    'where' = factor(18)))\n",
    "pred10 <- predict(pred, type = 'expected', newdata = data_frame(\n",
    "    'time' = 1:(4*365),\n",
    "    'status' = 1,\n",
    "    'where' = factor(21)))\n",
    "pred11 <- predict(pred, type = 'expected', newdata = data_frame(\n",
    "    'time' = 1:(4*365),\n",
    "    'status' = 1,\n",
    "    'where' = factor(22)))\n",
    "pred12 <- predict(pred, type = 'expected', newdata = data_frame(\n",
    "    'time' = 1:(4*365),\n",
    "    'status' = 1,\n",
    "    'where' = factor(24)))\n",
    "pred13 <- predict(pred, type = 'expected', newdata = data_frame(\n",
    "    'time' = 1:(4*365),\n",
    "    'status' = 1,\n",
    "    'where' = factor(26)))\n",
    "pred14 <- predict(pred, type = 'expected', newdata = data_frame(\n",
    "    'time' = 1:(4*365),\n",
    "    'status' = 1,\n",
    "    'where' = factor(27)))\n",
    "\n",
    "# Plot \n",
    "colours <- c('blueviolet', 'gold2', 'blue', 'goldenrod2', 'dodgerblue', 'darkorange', 'deepskyblue', 'red', 'chartreuse', 'magenta', 'olivedrab2', 'hotpink', 'darkolivegreen2', 'lightcoral')\n",
    "names(colours) <- c('Leaf 1', 'Leaf 2', 'Leaf 3', 'Leaf 4', 'Leaf 5', 'Leaf 6', 'Leaf 7', 'Leaf 8', 'Leaf 9', 'Leaf 10', 'Leaf 11', 'Leaf 12', 'Leaf 13', 'Leaf 14')\n",
    "ggplot(data = NULL) +\n",
    "    # For the NAs group\n",
    "    geom_line(aes(1:1460, 1 - exp(-pred1), colour = 'Leaf 1')) +\n",
    "    geom_line(aes(1:1460, 1 - exp(-pred2), colour = 'Leaf 2')) +\n",
    "    geom_line(aes(1:1460, 1 - exp(-pred3), colour = 'Leaf 3')) +\n",
    "    geom_line(aes(1:1460, 1 - exp(-pred4), colour = 'Leaf 4')) +\n",
    "    geom_line(aes(1:1460, 1 - exp(-pred5), colour = 'Leaf 5')) +\n",
    "    geom_line(aes(1:1460, 1 - exp(-pred6), colour = 'Leaf 6')) +\n",
    "    geom_line(aes(1:1460, 1 - exp(-pred7), colour = 'Leaf 7')) +\n",
    "    geom_line(aes(1:1460, 1 - exp(-pred8), colour = 'Leaf 8')) +\n",
    "    geom_line(aes(1:1460, 1 - exp(-pred9), colour = 'Leaf 9')) +\n",
    "    geom_line(aes(1:1460, 1 - exp(-pred10), colour = 'Leaf 10')) +\n",
    "    geom_line(aes(1:1460, 1 - exp(-pred11), colour = 'Leaf 11')) +\n",
    "    geom_line(aes(1:1460, 1 - exp(-pred12), colour = 'Leaf 12')) +\n",
    "    geom_line(aes(1:1460, 1 - exp(-pred13), colour = 'Leaf 13')) +\n",
    "    geom_line(aes(1:1460, 1 - exp(-pred14), colour = 'Leaf 14')) +\n",
    "    \n",
    "    scale_x_continuous(\"Time since Creation (in years)\", breaks = c(0, 365.25, 730.5, 1095.75, 1461, 1826.25), \n",
    "                       labels = c('0', '1', '2', '3', '4', '5')) + \n",
    "    ylab(\"Churn Rate\") + ylim(c(0, 1)) +\n",
    "    scale_colour_manual(\"\", values = colours, breaks = rev(names(colours))) +\n",
    "    theme_light() \n",
    "\n",
    "ggsave('img/km_pred.png', height = 4, width = 5)"
   ]
  },
  {
   "cell_type": "code",
   "execution_count": 40,
   "metadata": {},
   "outputs": [
    {
     "name": "stdout",
     "output_type": "stream",
     "text": [
      "[1] 0.02191081\n",
      "[1] 0.09595632\n",
      "[1] 0.09182972\n",
      "[1] 0.159885\n",
      "[1] 0.285842\n",
      "[1] 0.2170319\n",
      "[1] 0.2924733\n",
      "[1] 0.3026292\n",
      "[1] 0.5212795\n",
      "[1] 0.568689\n",
      "[1] 0.740672\n",
      "[1] 0.8545413\n",
      "[1] 0.8222835\n",
      "[1] 0.9593974\n"
     ]
    }
   ],
   "source": [
    "print(1 - exp(-pred1[365]))\n",
    "print(1 - exp(-pred2[365]))\n",
    "print(1 - exp(-pred3[365]))\n",
    "print(1 - exp(-pred4[365]))\n",
    "print(1 - exp(-pred5[365]))\n",
    "print(1 - exp(-pred6[365]))\n",
    "print(1 - exp(-pred7[365]))\n",
    "print(1 - exp(-pred8[365]))\n",
    "print(1 - exp(-pred9[365]))\n",
    "print(1 - exp(-pred10[365]))\n",
    "print(1 - exp(-pred11[365]))\n",
    "print(1 - exp(-pred12[365]))\n",
    "print(1 - exp(-pred13[365]))\n",
    "print(1 - exp(-pred14[365]))"
   ]
  },
  {
   "cell_type": "code",
   "execution_count": 41,
   "metadata": {},
   "outputs": [
    {
     "name": "stderr",
     "output_type": "stream",
     "text": [
      "Warning message:\n",
      "\"Removed 1 rows containing missing values (geom_path).\"Warning message:\n",
      "\"Removed 1 rows containing missing values (geom_path).\""
     ]
    },
    {
     "data": {},
     "metadata": {},
     "output_type": "display_data"
    },
    {
     "name": "stderr",
     "output_type": "stream",
     "text": [
      "Warning message:\n",
      "\"Removed 1 rows containing missing values (geom_path).\"Warning message:\n",
      "\"Removed 1 rows containing missing values (geom_path).\""
     ]
    },
    {
     "data": {
      "image/png": "[encoded data removed]",
      "text/plain": [
       "plot without title"
      ]
     },
     "metadata": {},
     "output_type": "display_data"
    }
   ],
   "source": [
    "pred <- survfit(Surv(time, status == 1) ~ factor(where), data = data)\n",
    "\n",
    "ggplot(data = NULL) +\n",
    "    # 10th leaf\n",
    "    geom_line(aes(pred$time[1:sum(pred$strata[1])], 1 - pred$lower[1:sum(pred$strata[1])]), \n",
    "              lty = 2, colour = 'blueviolet') +\n",
    "    geom_line(aes(pred$time[1:sum(pred$strata[1])], 1 - pred$upper[1:sum(pred$strata[1])]), \n",
    "              lty = 2, colour = 'blueviolet') +\n",
    "    geom_line(aes(pred$time[1:sum(pred$strata[1])], 1 - pred$surv[1:sum(pred$strata[1])], \n",
    "                 colour = 'Leaf 1')) +\n",
    "\n",
    "    # 9th leaf\n",
    "    geom_line(aes(pred$time[(sum(pred$strata[1])+1):sum(pred$strata[1:2])], 1 - pred$lower[(sum(pred$strata[1])+1):sum(pred$strata[1:2])]), \n",
    "              lty = 2, colour = 'gold2') +\n",
    "    geom_line(aes(pred$time[(sum(pred$strata[1])+1):sum(pred$strata[1:2])], 1 - pred$upper[(sum(pred$strata[1])+1):sum(pred$strata[1:2])]), \n",
    "              lty = 2, colour = 'gold2') +\n",
    "    geom_line(aes(pred$time[(sum(pred$strata[1])+1):sum(pred$strata[1:2])], 1 - pred$surv[(sum(pred$strata[1])+1):sum(pred$strata[1:2])], \n",
    "                 colour = 'Leaf 2')) +\n",
    "\n",
    "    # 8th Leaf\n",
    "    geom_line(aes(pred$time[(sum(pred$strata[1:2])+1):sum(pred$strata[1:3])], 1 - pred$lower[(sum(pred$strata[1:2])+1):sum(pred$strata[1:3])]), \n",
    "              lty = 2, colour = 'blue') +\n",
    "    geom_line(aes(pred$time[(sum(pred$strata[1:2])+1):sum(pred$strata[1:3])], 1 - pred$upper[(sum(pred$strata[1:2])+1):sum(pred$strata[1:3])]), \n",
    "              lty = 2, colour = 'blue') +\n",
    "    geom_line(aes(pred$time[(sum(pred$strata[1:2])+1):sum(pred$strata[1:3])], 1 - pred$surv[(sum(pred$strata[1:2])+1):sum(pred$strata[1:3])], \n",
    "                 colour = 'Leaf 3')) +\n",
    "    \n",
    "    # 7th Leaf\n",
    "    geom_line(aes(pred$time[(sum(pred$strata[1:3])+1):sum(pred$strata[1:4])], 1 - pred$lower[(sum(pred$strata[1:3])+1):sum(pred$strata[1:4])]), \n",
    "              lty = 2, colour = 'goldenrod2') +\n",
    "    geom_line(aes(pred$time[(sum(pred$strata[1:3])+1):sum(pred$strata[1:4])], 1 - pred$upper[(sum(pred$strata[1:3])+1):sum(pred$strata[1:4])]), \n",
    "              lty = 2, colour = 'goldenrod2') +\n",
    "    geom_line(aes(pred$time[(sum(pred$strata[1:3])+1):sum(pred$strata[1:4])], 1 - pred$surv[(sum(pred$strata[1:3])+1):sum(pred$strata[1:4])], \n",
    "                 colour = 'Leaf 4')) +\n",
    "\n",
    "    # 6th Leaf\n",
    "    geom_line(aes(pred$time[(sum(pred$strata[1:4])+1):sum(pred$strata[1:5])], 1 - pred$lower[(sum(pred$strata[1:4])+1):sum(pred$strata[1:5])]), \n",
    "              lty = 2, colour = 'dodgerblue') +\n",
    "    geom_line(aes(pred$time[(sum(pred$strata[1:4])+1):sum(pred$strata[1:5])], 1 - pred$upper[(sum(pred$strata[1:4])+1):sum(pred$strata[1:5])]), \n",
    "              lty = 2, colour = 'dodgerblue') +\n",
    "    geom_line(aes(pred$time[(sum(pred$strata[1:4])+1):sum(pred$strata[1:5])], 1 - pred$surv[(sum(pred$strata[1:4])+1):sum(pred$strata[1:5])], \n",
    "                 colour = 'Leaf 5')) +\n",
    "\n",
    "    # 5th Leaf\n",
    "    geom_line(aes(pred$time[(sum(pred$strata[1:5])+1):sum(pred$strata[1:6])], 1 - pred$lower[(sum(pred$strata[1:5])+1):sum(pred$strata[1:6])]), \n",
    "              lty = 2, colour = 'darkorange') +\n",
    "    geom_line(aes(pred$time[(sum(pred$strata[1:5])+1):sum(pred$strata[1:6])], 1 - pred$upper[(sum(pred$strata[1:5])+1):sum(pred$strata[1:6])]), \n",
    "              lty = 2, colour = 'darkorange') +\n",
    "    geom_line(aes(pred$time[(sum(pred$strata[1:5])+1):sum(pred$strata[1:6])], 1 - pred$surv[(sum(pred$strata[1:5])+1):sum(pred$strata[1:6])], \n",
    "                 colour = 'Leaf 6')) +\n",
    "\n",
    "    # 4th Leaf\n",
    "    geom_line(aes(pred$time[(sum(pred$strata[1:6])+1):sum(pred$strata[1:7])], 1 - pred$lower[(sum(pred$strata[1:6])+1):sum(pred$strata[1:7])]), \n",
    "              lty = 2, colour = 'deepskyblue') +\n",
    "    geom_line(aes(pred$time[(sum(pred$strata[1:6])+1):sum(pred$strata[1:7])], 1 - pred$upper[(sum(pred$strata[1:6])+1):sum(pred$strata[1:7])]), \n",
    "              lty = 2, colour = 'deepskyblue') +\n",
    "    geom_line(aes(pred$time[(sum(pred$strata[1:6])+1):sum(pred$strata[1:7])], 1 - pred$surv[(sum(pred$strata[1:6])+1):sum(pred$strata[1:7])], \n",
    "                 colour = 'Leaf 7')) +\n",
    "\n",
    "    # 3rd Leaf\n",
    "    geom_line(aes(pred$time[(sum(pred$strata[1:7])+1):sum(pred$strata[1:8])], 1 - pred$lower[(sum(pred$strata[1:7])+1):sum(pred$strata[1:8])]), \n",
    "              lty = 2, colour = 'red') +\n",
    "    geom_line(aes(pred$time[(sum(pred$strata[1:7])+1):sum(pred$strata[1:8])], 1 - pred$upper[(sum(pred$strata[1:7])+1):sum(pred$strata[1:8])]), \n",
    "              lty = 2, colour = 'red') +\n",
    "    geom_line(aes(pred$time[(sum(pred$strata[1:7])+1):sum(pred$strata[1:8])], 1 - pred$surv[(sum(pred$strata[1:7])+1):sum(pred$strata[1:8])], \n",
    "                 colour = 'Leaf 8')) +\n",
    "\n",
    "    # 2nd Leaf\n",
    "    geom_line(aes(pred$time[(sum(pred$strata[1:8])+1):sum(pred$strata[1:9])], 1 - pred$lower[(sum(pred$strata[1:8])+1):sum(pred$strata[1:9])]), \n",
    "              lty = 2, colour = 'green') +\n",
    "    geom_line(aes(pred$time[(sum(pred$strata[1:8])+1):sum(pred$strata[1:9])], 1 - pred$upper[(sum(pred$strata[1:8])+1):sum(pred$strata[1:9])]), \n",
    "              lty = 2, colour = 'green') +\n",
    "    geom_line(aes(pred$time[(sum(pred$strata[1:8])+1):sum(pred$strata[1:9])], 1 - pred$surv[(sum(pred$strata[1:8])+1):sum(pred$strata[1:9])], \n",
    "                 colour = 'Leaf 9')) +\n",
    "\n",
    "    # 1st Leaf\n",
    "    geom_line(aes(pred$time[(sum(pred$strata[1:9])+1):sum(pred$strata[1:10])], 1 - pred$lower[(sum(pred$strata[1:9])+1):sum(pred$strata[1:10])]), \n",
    "              lty = 2, colour = 'magenta') +\n",
    "    geom_line(aes(pred$time[(sum(pred$strata[1:9])+1):sum(pred$strata[1:10])], 1 - pred$upper[(sum(pred$strata[1:9])+1):sum(pred$strata[1:10])]), \n",
    "              lty = 2, colour = 'magenta') +\n",
    "    geom_line(aes(pred$time[(sum(pred$strata[1:9])+1):sum(pred$strata[1:10])], 1 - pred$surv[(sum(pred$strata[1:9])+1):sum(pred$strata[1:10])], \n",
    "                 colour = 'Leaf 10')) +\n",
    "    \n",
    "    # 1st Leaf\n",
    "    geom_line(aes(pred$time[(sum(pred$strata[1:10])+1):sum(pred$strata[1:11])], 1 - pred$lower[(sum(pred$strata[1:10])+1):sum(pred$strata[1:11])]), \n",
    "              lty = 2, colour = 'olivedrab2') +\n",
    "    geom_line(aes(pred$time[(sum(pred$strata[1:10])+1):sum(pred$strata[1:11])], 1 - pred$upper[(sum(pred$strata[1:10])+1):sum(pred$strata[1:11])]), \n",
    "              lty = 2, colour = 'olivedrab2') +\n",
    "    geom_line(aes(pred$time[(sum(pred$strata[1:10])+1):sum(pred$strata[1:11])], 1 - pred$surv[(sum(pred$strata[1:10])+1):sum(pred$strata[1:11])], \n",
    "                 colour = 'Leaf 11')) +\n",
    "\n",
    "    # 1st Leaf\n",
    "    geom_line(aes(pred$time[(sum(pred$strata[1:11])+1):sum(pred$strata[1:12])], 1 - pred$lower[(sum(pred$strata[1:11])+1):sum(pred$strata[1:12])]), \n",
    "              lty = 2, colour = 'hotpink') +\n",
    "    geom_line(aes(pred$time[(sum(pred$strata[1:11])+1):sum(pred$strata[1:12])], 1 - pred$upper[(sum(pred$strata[1:11])+1):sum(pred$strata[1:12])]), \n",
    "              lty = 2, colour = 'hotpink') +\n",
    "    geom_line(aes(pred$time[(sum(pred$strata[1:11])+1):sum(pred$strata[1:12])], 1 - pred$surv[(sum(pred$strata[1:11])+1):sum(pred$strata[1:12])], \n",
    "                 colour = 'Leaf 12')) +\n",
    "\n",
    "    # 1st Leaf\n",
    "    geom_line(aes(pred$time[(sum(pred$strata[1:12])+1):sum(pred$strata[1:13])], 1 - pred$lower[(sum(pred$strata[1:12])+1):sum(pred$strata[1:13])]), \n",
    "              lty = 2, colour = 'darkolivegreen2') +\n",
    "    geom_line(aes(pred$time[(sum(pred$strata[1:12])+1):sum(pred$strata[1:13])], 1 - pred$upper[(sum(pred$strata[1:12])+1):sum(pred$strata[1:13])]), \n",
    "              lty = 2, colour = 'darkolivegreen2') +\n",
    "    geom_line(aes(pred$time[(sum(pred$strata[1:12])+1):sum(pred$strata[1:13])], 1 - pred$surv[(sum(pred$strata[1:12])+1):sum(pred$strata[1:13])], \n",
    "                 colour = 'Leaf 13')) +\n",
    "\n",
    "    # 1st Leaf\n",
    "    geom_line(aes(pred$time[(sum(pred$strata[1:13])+1):sum(pred$strata[1:14])], 1 - pred$lower[(sum(pred$strata[1:13])+1):sum(pred$strata[1:14])]), \n",
    "              lty = 2, colour = 'lightcoral') +\n",
    "    geom_line(aes(pred$time[(sum(pred$strata[1:13])+1):sum(pred$strata[1:14])], 1 - pred$upper[(sum(pred$strata[1:13])+1):sum(pred$strata[1:14])]), \n",
    "              lty = 2, colour = 'lightcoral') +\n",
    "    geom_line(aes(pred$time[(sum(pred$strata[1:13])+1):sum(pred$strata[1:14])], 1 - pred$surv[(sum(pred$strata[1:13])+1):sum(pred$strata[1:14])], \n",
    "                 colour = 'Leaf 14')) +\n",
    "\n",
    "    scale_x_continuous(\"Time since Creation (in years)\", breaks = c(0, 365.25, 730.5, 1095.75, 1461, 1826.25), \n",
    "                       labels = c('0', '1', '2', '3', '4', '5')) + \n",
    "    ylab(\"Churn Rate\") + ylim(c(0, 1)) +\n",
    "    scale_colour_manual(\"\", values = colours, breaks = rev(names(colours))) +\n",
    "    theme_light()\n",
    "\n",
    "ggsave('img/km_estim.png', height = 4, width = 5)"
   ]
  },
  {
   "cell_type": "code",
   "execution_count": 42,
   "metadata": {},
   "outputs": [
    {
     "name": "stdout",
     "output_type": "stream",
     "text": [
      "[1] 0.01775549\n",
      "[1] 0.05793649\n",
      "[1] 0.1023262\n",
      "[1] 0.1244269\n",
      "[1] 0.290004\n",
      "[1] 0.2220432\n",
      "[1] 0.274962\n",
      "[1] 0.3155727\n",
      "[1] 0.5439975\n",
      "[1] 0.598304\n",
      "[1] 0.7323386\n",
      "[1] 0.8060841\n",
      "[1] 0.7854314\n",
      "[1] 0.9454353\n"
     ]
    }
   ],
   "source": [
    "print(1 - pred$surv[min(which(pred$time >= 365))])\n",
    "print(1 - pred$surv[pred$strata[1] + min(which(pred$time[(pred$strata[1]+1):sum(pred$strata[1:2])] >= 365))])\n",
    "print(1 - pred$surv[sum(pred$strata[1:2]) + min(which(pred$time[(sum(pred$strata[1:2])+1):sum(pred$strata[1:3])] >= 365))])\n",
    "print(1 - pred$surv[sum(pred$strata[1:3]) + min(which(pred$time[(sum(pred$strata[1:3])+1):sum(pred$strata[1:4])] >= 365))])\n",
    "print(1 - pred$surv[sum(pred$strata[1:4]) + min(which(pred$time[(sum(pred$strata[1:4])+1):sum(pred$strata[1:5])] >= 365))])\n",
    "print(1 - pred$surv[sum(pred$strata[1:5]) + min(which(pred$time[(sum(pred$strata[1:5])+1):sum(pred$strata[1:6])] >= 365))])\n",
    "print(1 - pred$surv[sum(pred$strata[1:6]) + min(which(pred$time[(sum(pred$strata[1:6])+1):sum(pred$strata[1:7])] >= 365))])\n",
    "print(1 - pred$surv[sum(pred$strata[1:7]) + min(which(pred$time[(sum(pred$strata[1:7])+1):sum(pred$strata[1:8])] >= 365))])\n",
    "print(1 - pred$surv[sum(pred$strata[1:8]) + min(which(pred$time[(sum(pred$strata[1:8])+1):sum(pred$strata[1:9])] >= 365))])\n",
    "print(1 - pred$surv[sum(pred$strata[1:9]) + min(which(pred$time[(sum(pred$strata[1:9])+1):sum(pred$strata[1:10])] >= 365))])\n",
    "print(1 - pred$surv[sum(pred$strata[1:10]) + min(which(pred$time[(sum(pred$strata[1:10])+1):sum(pred$strata[1:11])] >= 365))])\n",
    "print(1 - pred$surv[sum(pred$strata[1:11]) + min(which(pred$time[(sum(pred$strata[1:11])+1):sum(pred$strata[1:12])] >= 365))])\n",
    "print(1 - pred$surv[sum(pred$strata[1:12]) + min(which(pred$time[(sum(pred$strata[1:12])+1):sum(pred$strata[1:13])] >= 365))])\n",
    "print(1 - pred$surv[sum(pred$strata[1:13]) + min(which(pred$time[(sum(pred$strata[1:13])+1):sum(pred$strata[1:14])] >= 365))])"
   ]
  },
  {
   "cell_type": "code",
   "execution_count": 47,
   "metadata": {},
   "outputs": [
    {
     "data": {},
     "metadata": {},
     "output_type": "display_data"
    },
    {
     "data": {
      "image/png": "[encoded data removed]",
      "text/plain": [
       "plot without title"
      ]
     },
     "metadata": {},
     "output_type": "display_data"
    }
   ],
   "source": [
    "data$group <- 1\n",
    "data$group[data$where == 6] <- 2\n",
    "data$group[data$where == 8] <- 2\n",
    "data$group[data$where == 10] <- 2\n",
    "data$group[data$where == 11] <- 4\n",
    "data$group[data$where == 13] <- 2\n",
    "data$group[data$where == 15] <- 4\n",
    "data$group[data$where == 17] <- 4\n",
    "data$group[data$where == 18] <- 5\n",
    "data$group[data$where == 21] <- 5\n",
    "data$group[data$where == 22] <- 6\n",
    "data$group[data$where == 24] <- 6\n",
    "data$group[data$where == 26] <- 6\n",
    "data$group[data$where == 27] <- 6\n",
    "data$group <- as.factor(data$group)\n",
    "\n",
    "pred <- coxph(Surv(time, status == 1) ~ group, data = data)\n",
    "pred1 <- predict(pred, type = 'expected', newdata = data_frame(\n",
    "    'time' = 1:(4*365),\n",
    "    'status' = 1,\n",
    "    'group' = factor(1)))\n",
    "pred2 <- predict(pred, type = 'expected', newdata = data_frame(\n",
    "    'time' = 1:(4*365),\n",
    "    'status' = 1,\n",
    "    'group' = factor(2)))\n",
    "pred4 <- predict(pred, type = 'expected', newdata = data_frame(\n",
    "    'time' = 1:(4*365),\n",
    "    'status' = 1,\n",
    "    'group' = factor(4)))\n",
    "pred5 <- predict(pred, type = 'expected', newdata = data_frame(\n",
    "    'time' = 1:(4*365),\n",
    "    'status' = 1,\n",
    "    'group' = factor(5)))\n",
    "pred6 <- predict(pred, type = 'expected', newdata = data_frame(\n",
    "    'time' = 1:(4*365),\n",
    "    'status' = 1,\n",
    "    'group' = factor(6)))\n",
    "\n",
    "# Plot \n",
    "colours <- c('green', 'red', 'deepskyblue', 'darkorange', 'blue')\n",
    "names(colours) <- c('Group 5', 'Group 4', 'Group 3', 'Group 2', 'Group 1')\n",
    "ggplot(data = NULL) +\n",
    "    # For the NAs group\n",
    "    geom_line(aes(1:1460, 1 - exp(-pred1), colour = 'Group 1')) +\n",
    "    geom_line(aes(1:1460, 1 - exp(-pred2), colour = 'Group 2')) +\n",
    "    geom_line(aes(1:1460, 1 - exp(-pred4), colour = 'Group 3')) +\n",
    "    geom_line(aes(1:1460, 1 - exp(-pred5), colour = 'Group 4')) +\n",
    "    geom_line(aes(1:1460, 1 - exp(-pred6), colour = 'Group 5')) +\n",
    "    \n",
    "    scale_x_continuous(\"Time since Creation (in years)\", breaks = c(0, 365.25, 730.5, 1095.75, 1461, 1826.25), \n",
    "                       labels = c('0', '1', '2', '3', '4', '5')) + \n",
    "    ylab(\"Churn Rate\") + ylim(c(0, 1)) +\n",
    "    scale_colour_manual(\"\", values = colours, breaks = names(colours)) +\n",
    "    ggtitle(\"Cox-PH Prediction   pp\") + theme_light() \n",
    "\n",
    "ggsave('img/km_pred2.png', height = 4, width = 5)"
   ]
  },
  {
   "cell_type": "code",
   "execution_count": 48,
   "metadata": {},
   "outputs": [
    {
     "name": "stdout",
     "output_type": "stream",
     "text": [
      "[1] 0.02239063\n",
      "[1] 0.1294511\n",
      "[1] 0.2919674\n",
      "[1] 0.5290553\n",
      "[1] 0.851538\n"
     ]
    }
   ],
   "source": [
    "print(1 - exp(-pred1[365]))\n",
    "print(1 - exp(-pred2[365]))\n",
    "print(1 - exp(-pred4[365]))\n",
    "print(1 - exp(-pred5[365]))\n",
    "print(1 - exp(-pred6[365]))"
   ]
  },
  {
   "cell_type": "code",
   "execution_count": 49,
   "metadata": {},
   "outputs": [
    {
     "data": {},
     "metadata": {},
     "output_type": "display_data"
    },
    {
     "data": {
      "image/png": "[encoded data removed]",
      "text/plain": [
       "plot without title"
      ]
     },
     "metadata": {},
     "output_type": "display_data"
    }
   ],
   "source": [
    "pred <- survfit(Surv(time, status == 1) ~ group, data = data)\n",
    "\n",
    "ggplot(data = NULL) +\n",
    "    # 10th leaf\n",
    "    geom_line(aes(pred$time[1:sum(pred$strata[1])], 1 - pred$lower[1:sum(pred$strata[1])]), \n",
    "              lty = 2, colour = 'blue') +\n",
    "    geom_line(aes(pred$time[1:sum(pred$strata[1])], 1 - pred$upper[1:sum(pred$strata[1])]), \n",
    "              lty = 2, colour = 'blue') +\n",
    "    geom_line(aes(pred$time[1:sum(pred$strata[1])], 1 - pred$surv[1:sum(pred$strata[1])], \n",
    "                 colour = 'Group 1')) +\n",
    "\n",
    "    # 9th leaf\n",
    "    geom_line(aes(pred$time[(sum(pred$strata[1])+1):sum(pred$strata[1:2])], 1 - pred$lower[(sum(pred$strata[1])+1):sum(pred$strata[1:2])]), \n",
    "              lty = 2, colour = 'darkorange') +\n",
    "    geom_line(aes(pred$time[(sum(pred$strata[1])+1):sum(pred$strata[1:2])], 1 - pred$upper[(sum(pred$strata[1])+1):sum(pred$strata[1:2])]), \n",
    "              lty = 2, colour = 'darkorange') +\n",
    "    geom_line(aes(pred$time[(sum(pred$strata[1])+1):sum(pred$strata[1:2])], 1 - pred$surv[(sum(pred$strata[1])+1):sum(pred$strata[1:2])], \n",
    "                 colour = 'Group 2')) +\n",
    "\n",
    "    # 8th Leaf\n",
    "    geom_line(aes(pred$time[(sum(pred$strata[1:2])+1):sum(pred$strata[1:3])], 1 - pred$lower[(sum(pred$strata[1:2])+1):sum(pred$strata[1:3])]), \n",
    "              lty = 2, colour = 'deepskyblue') +\n",
    "    geom_line(aes(pred$time[(sum(pred$strata[1:2])+1):sum(pred$strata[1:3])], 1 - pred$upper[(sum(pred$strata[1:2])+1):sum(pred$strata[1:3])]), \n",
    "              lty = 2, colour = 'deepskyblue') +\n",
    "    geom_line(aes(pred$time[(sum(pred$strata[1:2])+1):sum(pred$strata[1:3])], 1 - pred$surv[(sum(pred$strata[1:2])+1):sum(pred$strata[1:3])], \n",
    "                 colour = 'Group 3')) +\n",
    "    \n",
    "    # 7th Leaf\n",
    "    geom_line(aes(pred$time[(sum(pred$strata[1:3])+1):sum(pred$strata[1:4])], 1 - pred$lower[(sum(pred$strata[1:3])+1):sum(pred$strata[1:4])]), \n",
    "              lty = 2, colour = 'red') +\n",
    "    geom_line(aes(pred$time[(sum(pred$strata[1:3])+1):sum(pred$strata[1:4])], 1 - pred$upper[(sum(pred$strata[1:3])+1):sum(pred$strata[1:4])]), \n",
    "              lty = 2, colour = 'red') +\n",
    "    geom_line(aes(pred$time[(sum(pred$strata[1:3])+1):sum(pred$strata[1:4])], 1 - pred$surv[(sum(pred$strata[1:3])+1):sum(pred$strata[1:4])], \n",
    "                 colour = 'Group 4')) +\n",
    "\n",
    "    geom_line(aes(pred$time[(sum(pred$strata[1:4])+1):sum(pred$strata[1:5])], 1 - pred$lower[(sum(pred$strata[1:4])+1):sum(pred$strata[1:5])]), \n",
    "              lty = 2, colour = 'green') +\n",
    "    geom_line(aes(pred$time[(sum(pred$strata[1:4])+1):sum(pred$strata[1:5])], 1 - pred$upper[(sum(pred$strata[1:4])+1):sum(pred$strata[1:5])]), \n",
    "              lty = 2, colour = 'green') +\n",
    "    geom_line(aes(pred$time[(sum(pred$strata[1:4])+1):sum(pred$strata[1:5])], 1 - pred$surv[(sum(pred$strata[1:4])+1):sum(pred$strata[1:5])], \n",
    "                 colour = 'Group 5')) +\n",
    "    \n",
    "    scale_x_continuous(\"Time since Creation (in years)\", breaks = c(0, 365.25, 730.5, 1095.75, 1461, 1826.25), \n",
    "                       labels = c('0', '1', '2', '3', '4', '5')) + \n",
    "    ylab(\"Churn Rate\") + ylim(c(0, 1)) +\n",
    "    scale_colour_manual(\"\", values = colours, breaks = names(colours)) +\n",
    "    ggtitle(\"Kaplan-Meier Estimation\") + theme_light()\n",
    "\n",
    "ggsave('img/km_estim2.png', height = 4, width = 5)"
   ]
  },
  {
   "cell_type": "code",
   "execution_count": 50,
   "metadata": {},
   "outputs": [
    {
     "name": "stdout",
     "output_type": "stream",
     "text": [
      "[1] 0.01775549\n",
      "[1] 0.1104716\n",
      "[1] 0.2878659\n",
      "[1] 0.5549086\n",
      "[1] 0.8268633\n"
     ]
    }
   ],
   "source": [
    "print(1 - pred$surv[min(which(pred$time >= 365))])\n",
    "print(1 - pred$surv[pred$strata[1] + min(which(pred$time[(pred$strata[1]+1):sum(pred$strata[1:2])] >= 365))])\n",
    "print(1 - pred$surv[sum(pred$strata[1:2]) + min(which(pred$time[(sum(pred$strata[1:2])+1):sum(pred$strata[1:3])] >= 365))])\n",
    "print(1 - pred$surv[sum(pred$strata[1:3]) + min(which(pred$time[(sum(pred$strata[1:3])+1):sum(pred$strata[1:4])] >= 365))])\n",
    "print(1 - pred$surv[sum(pred$strata[1:4]) + min(which(pred$time[(sum(pred$strata[1:4])+1):sum(pred$strata[1:5])] >= 365))])"
   ]
  },
  {
   "cell_type": "code",
   "execution_count": null,
   "metadata": {
    "collapsed": true
   },
   "outputs": [],
   "source": []
  }
 ],
 "metadata": {
  "kernelspec": {
   "display_name": "R",
   "language": "R",
   "name": "ir"
  },
  "language_info": {
   "codemirror_mode": "r",
   "file_extension": ".r",
   "mimetype": "text/x-r-source",
   "name": "R",
   "pygments_lexer": "r",
   "version": "3.4.3"
  }
 },
 "nbformat": 4,
 "nbformat_minor": 2
}
